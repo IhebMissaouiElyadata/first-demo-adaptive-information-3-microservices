{
 "cells": [
  {
   "cell_type": "markdown",
   "metadata": {
    "id": "VD086Ka3t6JS"
   },
   "source": [
    " install Unsloth"
   ]
  },
  {
   "cell_type": "code",
   "metadata": {
    "id": "UVWB2FQU0hff",
    "jupyter": {
     "is_executing": true
    }
   },
   "source": [
    "%%capture\n",
    "import torch\n",
    "major_version, minor_version = torch.cuda.get_device_capability()\n",
    "# Must install separately since Colab has torch 2.2.1, which breaks packages\n",
    "!pip install \"unsloth[colab-new] @ git+https://github.com/unslothai/unsloth.git\"\n",
    "if major_version >= 8:\n",
    "    # Use this for new GPUs like Ampere, Hopper GPUs (RTX 30xx, RTX 40xx, A100, H100, L40)\n",
    "    !pip install --no-deps packaging ninja einops flash-attn xformers trl peft accelerate bitsandbytes\n",
    "else:\n",
    "    # Use this for older GPUs (V100, Tesla T4, RTX 20xx)\n",
    "    !pip install --no-deps xformers trl peft accelerate bitsandbytes\n",
    "pass"
   ],
   "outputs": [],
   "execution_count": null
  },
  {
   "cell_type": "markdown",
   "metadata": {
    "id": "KZRl5sDovx2I"
   },
   "source": [
    "use mistral 7b instruct 4bits quant"
   ]
  },
  {
   "cell_type": "code",
   "execution_count": null,
   "metadata": {
    "colab": {
     "base_uri": "https://localhost:8080/",
     "height": 464,
     "referenced_widgets": [
      "77682caf07674f83b4fee40477d8c543",
      "684028f9d8ad457a8bde188a2d9f6ef8",
      "3622307060d4466d8fbfff43cc9b960b",
      "013704dc86f5443bad04c4d33932c664",
      "a036115942894509a28d412a10075828",
      "4f351736daa04f7ebf42ab7ce9e68ba7",
      "0152d911c39d4ed085a5b81e454a15e3",
      "e3aa545fb904480cbf743d62281cdd8a",
      "cbdc3afbf1b544a3b289fc91b5720e9c",
      "90e92fcea8e14fbb8058c33b025cbed1",
      "24e01b0905744945842a373aab7a6c66",
      "9b3ae014a0c148f9b8be70c5d07678c9",
      "f6735f19860c46c1a9d86d12e89d442b",
      "ab605a72e10746458b68081ece945b10",
      "7d3e428895534c88844d48ff697f24e6",
      "f640f9a181ce46ed8f8e4439dd236331",
      "b25c43f364334326b00cd301d6c6f259",
      "ae7b360ef64845d79c2ea2e0f1e110b2",
      "aad0a3d42be94b6c942bffe54c094e91",
      "9040651aa4cd4fcab571ac77109dc030",
      "198e9eb922174af596ddec8355334464",
      "514303d1ad1d4c15b0c2780924ed35b9",
      "62adc36c327047729956c9689ae8e006",
      "fa6de34d059d4b0c967b37ae5ef53247",
      "5d08e7af2c6043bc9735f1efb101d182",
      "4b974124321e4040bd368030435acb51",
      "a8f963ab1ad54c66bee6b6b880e0aedf",
      "326abce947d6495e8b9a6815b7db202f",
      "f55354a90b2a468ea9832b48b3ccb68e",
      "da0edc4293c7478d86e12f0aef4b92cf",
      "76bef4e7608e4da89d86b1b8476efac0",
      "99b9cbb240984de5851ed14ae5811a5e",
      "e5c7e72a9d5c4f98b445ec797e04ae9e",
      "c7e3d75277a5484a8234f0aa0b71004f",
      "94b01d4ceb4b4394b72c6423ce85fe6f",
      "ee0cb21aa5ae4d15a369946bc0a13c50",
      "5c2a8161d26946ebba400250c60f1337",
      "7cd0de587ae542449e839ee37184a462",
      "200de99591c341a4b4fd1eefa6be7395",
      "6ed8094de9c44eac9ccd34b9d7513369",
      "1280d7698683464aafa606409ec6354b",
      "ce3aee37c2d346c2ad0e7a9cc84c6e7e",
      "28a81b667de64adfbdab08a9adfb6f1b",
      "e1873e19d5bc475dbf398ae7414a2cb6",
      "718dc6ae585743edae0075995dce4188",
      "c567b96950a947ec9bc1794d72c8c8cb",
      "faeefd1f3ac541dd8089d2b1039d49b8",
      "c3cf077011a34ff2bb9aec577a8872ba",
      "14f1f334810b4edeb3fa37103a51c8f5",
      "a18fda69b3d646609e24f34752bbc18c",
      "60413b43f178410fb123cd5deee8c402",
      "850f349f852844e5940695c3ac034165",
      "bced94d1c4504c109c8469359fbd9003",
      "84f22833f9f34a93b75c44bd083c231d",
      "111073968de44797ad62a231fb4e0f9b",
      "18854d61237b424ebbf099001008182e",
      "fc8b16e294b343688c7f5560b1b130a1",
      "56629b6b0711485bb1a62aa5fb81edbe",
      "f812ddc3ef154b38b4ce1883c9720cc3",
      "03d2ed0492154981b8192e44bf27d4c9",
      "f4aa9c27ba8e415383c2e42f58272667",
      "c2dbd4095ad345fcb5b326af586d174d",
      "fb9787037d4845908604d43dbe71de79",
      "c76d488148a9485bad93ec8eed3d79e3",
      "f0cd718a256547afa22571010a76c653",
      "2b50a0a5f3af4c5997398bc4a35483a4",
      "1c6d70d1991741349b6b05a482d5468e",
      "fcd96fb9be184260b73a7ca88319589e",
      "1cbfb69c152b474e9a1e981de97e3378",
      "38d2790edda94cf191d178964ffc805f",
      "3cb39ca94dc048a7aa38c90d6448951f",
      "08230c86caf24d2d998a47cdec571c5d",
      "2c4b8cabb45f465ba7362eab512c5b7b",
      "1068cc0cf3ea46378e00335d29ddeb3e",
      "e99e12b8fbed46e6a564add07aa6b2fa",
      "c2112883e1424c868dd391438319cdb1",
      "6806e3a1ca6b4ed290365e8674ba1fe4",
      "f96e1e9ff784462dbbb79f8b0aeebde6",
      "609cfbd5311f4132bf9946a2595a66f8",
      "3d58af4b2d85417b8bd2d953ee3ac8d3",
      "71cc104c135d4ae0a4e1545499567a83",
      "3f87fcde1dc9462f881712e494eb4d59",
      "41742f9921304f959bb9cff0ec353d2d",
      "7788930b990e463bbe0b17180a96ca62",
      "e2e4cb06bc2743e090ca686f791952e3",
      "a4d17636495a4c08ae9a17d47ca0ac38",
      "ef78f3b1c1584e388653279e198cff21",
      "96ff04cf91cd4d89bc39a5774d7eff69"
     ]
    },
    "id": "YT6HdKuStteR",
    "outputId": "522557ea-d197-4c4d-882b-529da1c4ce1c"
   },
   "outputs": [
    {
     "output_type": "stream",
     "name": "stderr",
     "text": [
      "Unsloth: You passed in `teknium/OpenHermes-2.5-Mistral-7B` and `load_in_4bit = True`.\n",
      "We shall load `unsloth/OpenHermes-2.5-Mistral-7B-bnb-4bit` for 4x faster loading.\n"
     ]
    },
    {
     "output_type": "display_data",
     "data": {
      "text/plain": [
       "config.json:   0%|          | 0.00/1.12k [00:00<?, ?B/s]"
      ],
      "application/vnd.jupyter.widget-view+json": {
       "version_major": 2,
       "version_minor": 0,
       "model_id": "77682caf07674f83b4fee40477d8c543"
      }
     },
     "metadata": {}
    },
    {
     "output_type": "stream",
     "name": "stdout",
     "text": [
      "==((====))==  Unsloth: Fast Mistral patching release 2024.4\n",
      "   \\\\   /|    GPU: Tesla T4. Max memory: 14.748 GB. Platform = Linux.\n",
      "O^O/ \\_/ \\    Pytorch: 2.2.1+cu121. CUDA = 7.5. CUDA Toolkit = 12.1.\n",
      "\\        /    Bfloat16 = FALSE. Xformers = 0.0.25.post1. FA = False.\n",
      " \"-____-\"     Free Apache license: http://github.com/unslothai/unsloth\n"
     ]
    },
    {
     "output_type": "stream",
     "name": "stderr",
     "text": [
      "Unused kwargs: ['_load_in_4bit', '_load_in_8bit', 'quant_method']. These kwargs are not used in <class 'transformers.utils.quantization_config.BitsAndBytesConfig'>.\n"
     ]
    },
    {
     "output_type": "display_data",
     "data": {
      "text/plain": [
       "model.safetensors:   0%|          | 0.00/4.13G [00:00<?, ?B/s]"
      ],
      "application/vnd.jupyter.widget-view+json": {
       "version_major": 2,
       "version_minor": 0,
       "model_id": "9b3ae014a0c148f9b8be70c5d07678c9"
      }
     },
     "metadata": {}
    },
    {
     "output_type": "display_data",
     "data": {
      "text/plain": [
       "generation_config.json:   0%|          | 0.00/115 [00:00<?, ?B/s]"
      ],
      "application/vnd.jupyter.widget-view+json": {
       "version_major": 2,
       "version_minor": 0,
       "model_id": "62adc36c327047729956c9689ae8e006"
      }
     },
     "metadata": {}
    },
    {
     "output_type": "display_data",
     "data": {
      "text/plain": [
       "tokenizer_config.json:   0%|          | 0.00/1.63k [00:00<?, ?B/s]"
      ],
      "application/vnd.jupyter.widget-view+json": {
       "version_major": 2,
       "version_minor": 0,
       "model_id": "c7e3d75277a5484a8234f0aa0b71004f"
      }
     },
     "metadata": {}
    },
    {
     "output_type": "display_data",
     "data": {
      "text/plain": [
       "tokenizer.model:   0%|          | 0.00/493k [00:00<?, ?B/s]"
      ],
      "application/vnd.jupyter.widget-view+json": {
       "version_major": 2,
       "version_minor": 0,
       "model_id": "718dc6ae585743edae0075995dce4188"
      }
     },
     "metadata": {}
    },
    {
     "output_type": "display_data",
     "data": {
      "text/plain": [
       "added_tokens.json:   0%|          | 0.00/51.0 [00:00<?, ?B/s]"
      ],
      "application/vnd.jupyter.widget-view+json": {
       "version_major": 2,
       "version_minor": 0,
       "model_id": "18854d61237b424ebbf099001008182e"
      }
     },
     "metadata": {}
    },
    {
     "output_type": "display_data",
     "data": {
      "text/plain": [
       "special_tokens_map.json:   0%|          | 0.00/444 [00:00<?, ?B/s]"
      ],
      "application/vnd.jupyter.widget-view+json": {
       "version_major": 2,
       "version_minor": 0,
       "model_id": "1c6d70d1991741349b6b05a482d5468e"
      }
     },
     "metadata": {}
    },
    {
     "output_type": "display_data",
     "data": {
      "text/plain": [
       "tokenizer.json:   0%|          | 0.00/1.80M [00:00<?, ?B/s]"
      ],
      "application/vnd.jupyter.widget-view+json": {
       "version_major": 2,
       "version_minor": 0,
       "model_id": "f96e1e9ff784462dbbb79f8b0aeebde6"
      }
     },
     "metadata": {}
    },
    {
     "output_type": "stream",
     "name": "stderr",
     "text": [
      "Special tokens have been added in the vocabulary, make sure the associated word embeddings are fine-tuned or trained.\n",
      "You set `add_prefix_space`. The tokenizer needs to be converted from the slow tokenizers\n",
      "Special tokens have been added in the vocabulary, make sure the associated word embeddings are fine-tuned or trained.\n"
     ]
    }
   ],
   "source": [
    "from unsloth import FastLanguageModel\n",
    "import torch\n",
    "max_seq_length = 2048 # Choose any! We auto support RoPE Scaling internally!\n",
    "dtype = None # None for auto detection. Float16 for Tesla T4, V100, Bfloat16 for Ampere+\n",
    "load_in_4bit = True # Use 4bit quantization to reduce memory usage. Can be False.\n",
    "\n",
    "# 4bit pre quantized models we support for 4x faster downloading + no OOMs.\n",
    "fourbit_models = [\n",
    "    \"unsloth/mistral-7b-bnb-4bit\",\n",
    "    \"unsloth/mistral-7b-instruct-v0.2-bnb-4bit\",\n",
    "    \"unsloth/llama-2-7b-bnb-4bit\",\n",
    "    \"unsloth/llama-2-13b-bnb-4bit\",\n",
    "    \"unsloth/codellama-34b-bnb-4bit\",\n",
    "    \"unsloth/tinyllama-bnb-4bit\",\n",
    "    \"unsloth/gemma-7b-bnb-4bit\", # New Google 6 trillion tokens model 2.5x faster!\n",
    "    \"unsloth/gemma-2b-bnb-4bit\",\n",
    "] # More models at https://huggingface.co/unsloth\n",
    "\n",
    "model, tokenizer = FastLanguageModel.from_pretrained(\n",
    "    model_name = \"teknium/OpenHermes-2.5-Mistral-7B\", # Choose ANY! eg teknium/OpenHermes-2.5-Mistral-7B\n",
    "    max_seq_length = max_seq_length,\n",
    "    dtype = dtype,\n",
    "    load_in_4bit = load_in_4bit,\n",
    "    # token = \"hf_...\", # use one if using gated models like meta-llama/Llama-2-7b-hf\n",
    ")"
   ]
  },
  {
   "cell_type": "markdown",
   "metadata": {
    "id": "5gPxodVz2zIQ"
   },
   "source": [
    "Need 4.6gb vram"
   ]
  },
  {
   "cell_type": "markdown",
   "metadata": {
    "id": "NEWgwDTruQzY"
   },
   "source": [
    "INPUT PREPARATION"
   ]
  },
  {
   "cell_type": "code",
   "execution_count": null,
   "metadata": {
    "id": "iSP7YXFQuS7s"
   },
   "outputs": [],
   "source": [
    "alpaca_prompt = \"\"\"Below is an instruction that describes a task of layout question answering , paired with an input that provides further context that contain  a list of extracted blocks from that image then followed by a list of theirs bounding boxes represented by 4 point's cordinates of them in that image ,. Write a response that appropriately completes the request .\n",
    "\n",
    "### Instruction:\n",
    "{}\n",
    "\n",
    "### Input:\n",
    "{}\n",
    "\n",
    "### Response:\n",
    "{}\"\"\"\n",
    "\n",
    "EOS_TOKEN = tokenizer.eos_token # Must add EOS_TOKEN\n",
    "def formatting_prompts_func(examples):\n",
    "    instructions = examples[\"instruction\"]\n",
    "    inputs       = examples[\"input\"]\n",
    "    outputs      = examples[\"output\"]\n",
    "    texts = []\n",
    "    for instruction, input, output in zip(instructions, inputs, outputs):\n",
    "        # Must add EOS_TOKEN, otherwise your generation will go on forever!\n",
    "        text = alpaca_prompt.format(instruction, input, output) + EOS_TOKEN\n",
    "        texts.append(text)\n",
    "    return { \"text\" : texts, }\n",
    "pass\n",
    "\n"
   ]
  },
  {
   "cell_type": "markdown",
   "metadata": {
    "id": "CRLcd2QLuMnX"
   },
   "source": [
    "Inference"
   ]
  },
  {
   "cell_type": "code",
   "execution_count": null,
   "metadata": {
    "colab": {
     "base_uri": "https://localhost:8080/",
     "height": 53
    },
    "id": "AQKavvaWuNVP",
    "outputId": "01e80d6d-5f2d-427b-bf70-f7ff0877e5ca"
   },
   "outputs": [
    {
     "output_type": "stream",
     "name": "stderr",
     "text": [
      "Setting `pad_token_id` to `eos_token_id`:32000 for open-end generation.\n"
     ]
    },
    {
     "output_type": "execute_result",
     "data": {
      "text/plain": [
       "':\\n\\nThe name of the person in the image is Maelys-Gaelle Marie Martin.<|im_end|>'"
      ],
      "application/vnd.google.colaboratory.intrinsic+json": {
       "type": "string"
      }
     },
     "metadata": {},
     "execution_count": 4
    }
   ],
   "source": [
    "# alpaca_prompt = Copied from above\n",
    "FastLanguageModel.for_inference(model) # Enable native 2x faster inference\n",
    "inputs = tokenizer(\n",
    "[\n",
    "    alpaca_prompt.format(\n",
    "        \"what is her name\",\n",
    "        \"['REPUBLIOUE FRANCAISE',  'FR',  'CARTENATIONALEDIDENTITE/IDENTITYCARD',  'NOM/Sumame',  'MARTIN',  'Prenoms/Given.names',  'Maelys-Gaelle,Marie',  'SEXE/Sex',  'NATIONALITE/Nationalit',  'DATE DE NAlSS.YDate of birth',  'FRA',  '13071990',  'LIEUDE NAISSANCE/Place of birth',  'PARIS',  'NOM D'USAGE/ Altenate name',  'NOM D USAGE',  'NDU DOCUMENTLDocument No',  'DATE DEXPIR./Expiry date',  'X4RTBPFW4',  '11022030',  'Gnature',  '384213'],[[[184.0, 44.0], [608.0, 46.0], [608.0, 70.0], [184.0, 68.0]],[[668.0, 53.0], [717.0, 53.0], [717.0, 80.0], [668.0, 80.0]],[[185.0, 80.0], [609.0, 80.0], [609.0, 93.0], [185.0, 93.0]],[[313.0, 102.0], [408.0, 105.0], [408.0, 120.0], [313.0, 118.0]],[[317.0, 120.0], [431.0, 120.0], [431.0, 144.0], [317.0, 144.0]],[[319.0, 173.0], [447.0, 173.0], [447.0, 187.0], [319.0, 187.0]],[[317.0, 187.0], [558.0, 186.0], [558.0, 206.0], [317.0, 207.0]],[[317.0, 234.0], [388.0, 234.0], [388.0, 251.0], [317.0, 251.0]],[[410.0, 236.0], [553.0, 236.0], [553.0, 250.0], [410.0, 250.0]],[[585.0, 235.0], [758.0, 235.0], [758.0, 249.0], [585.0, 249.0]],[[408.0, 252.0], [456.0, 252.0], [456.0, 270.0], [408.0, 270.0]],[[585.0, 250.0], [711.0, 247.0], [711.0, 268.0], [585.0, 271.0]],[[319.0, 276.0], [521.0, 276.0], [521.0, 290.0], [319.0, 290.0]],[[317.0, 291.0], [388.0, 291.0], [388.0, 312.0], [317.0, 312.0]],[[318.0, 315.0], [494.0, 316.0], [494.0, 330.0], [318.0, 329.0]],[[319.0, 331.0], [493.0, 331.0], [493.0, 351.0], [319.0, 351.0]],[[320.0, 359.0], [511.0, 359.0], [511.0, 373.0], [320.0, 373.0]],[[585.0, 357.0], [744.0, 357.0], [744.0, 371.0], [585.0, 371.0]],[[319.0, 377.0], [531.0, 377.0], [531.0, 401.0], [319.0, 401.0]],[[585.0, 371.0], [711.0, 371.0], [711.0, 392.0], [585.0, 392.0]],[[390.0, 422.0], [496.0, 422.0], [496.0, 446.0], [390.0, 446.0]],[[588.0, 422.0], [725.0, 425.0], [725.0, 452.0], [588.0, 450.0]]]\", # input\n",
    "        \"\", # output - leave this blank for generation!\n",
    "    )\n",
    "], return_tensors = \"pt\").to(\"cuda\")\n",
    "\n",
    "outputs = model.generate(**inputs, max_new_tokens = 64, use_cache = True)\n",
    "tokenizer.batch_decode(outputs)[0].split(\"Response\")[-1]"
   ]
  },
  {
   "cell_type": "code",
   "execution_count": null,
   "metadata": {
    "colab": {
     "base_uri": "https://localhost:8080/",
     "height": 53
    },
    "id": "jjhsE5aQzlMw",
    "outputId": "69cfe2d6-55cf-4a90-a9bd-d60d3296c119"
   },
   "outputs": [
    {
     "output_type": "stream",
     "name": "stderr",
     "text": [
      "Setting `pad_token_id` to `eos_token_id`:32000 for open-end generation.\n"
     ]
    },
    {
     "output_type": "execute_result",
     "data": {
      "text/plain": [
       "':\\n\\nShe was born in Paris.<|im_end|>'"
      ],
      "application/vnd.google.colaboratory.intrinsic+json": {
       "type": "string"
      }
     },
     "metadata": {},
     "execution_count": 5
    }
   ],
   "source": [
    "# alpaca_prompt = Copied from above\n",
    "FastLanguageModel.for_inference(model) # Enable native 2x faster inference\n",
    "inputs = tokenizer(\n",
    "[\n",
    "    alpaca_prompt.format(\n",
    "        \"where she is borned\",\n",
    "        \"['REPUBLIOUE FRANCAISE',  'FR',  'CARTENATIONALEDIDENTITE/IDENTITYCARD',  'NOM/Sumame',  'MARTIN',  'Prenoms/Given.names',  'Maelys-Gaelle,Marie',  'SEXE/Sex',  'NATIONALITE/Nationalit',  'DATE DE NAlSS.YDate of birth',  'FRA',  '13071990',  'LIEUDE NAISSANCE/Place of birth',  'PARIS',  'NOM D'USAGE/ Altenate name',  'NOM D USAGE',  'NDU DOCUMENTLDocument No',  'DATE DEXPIR./Expiry date',  'X4RTBPFW4',  '11022030',  'Gnature',  '384213'],[[[184.0, 44.0], [608.0, 46.0], [608.0, 70.0], [184.0, 68.0]],[[668.0, 53.0], [717.0, 53.0], [717.0, 80.0], [668.0, 80.0]],[[185.0, 80.0], [609.0, 80.0], [609.0, 93.0], [185.0, 93.0]],[[313.0, 102.0], [408.0, 105.0], [408.0, 120.0], [313.0, 118.0]],[[317.0, 120.0], [431.0, 120.0], [431.0, 144.0], [317.0, 144.0]],[[319.0, 173.0], [447.0, 173.0], [447.0, 187.0], [319.0, 187.0]],[[317.0, 187.0], [558.0, 186.0], [558.0, 206.0], [317.0, 207.0]],[[317.0, 234.0], [388.0, 234.0], [388.0, 251.0], [317.0, 251.0]],[[410.0, 236.0], [553.0, 236.0], [553.0, 250.0], [410.0, 250.0]],[[585.0, 235.0], [758.0, 235.0], [758.0, 249.0], [585.0, 249.0]],[[408.0, 252.0], [456.0, 252.0], [456.0, 270.0], [408.0, 270.0]],[[585.0, 250.0], [711.0, 247.0], [711.0, 268.0], [585.0, 271.0]],[[319.0, 276.0], [521.0, 276.0], [521.0, 290.0], [319.0, 290.0]],[[317.0, 291.0], [388.0, 291.0], [388.0, 312.0], [317.0, 312.0]],[[318.0, 315.0], [494.0, 316.0], [494.0, 330.0], [318.0, 329.0]],[[319.0, 331.0], [493.0, 331.0], [493.0, 351.0], [319.0, 351.0]],[[320.0, 359.0], [511.0, 359.0], [511.0, 373.0], [320.0, 373.0]],[[585.0, 357.0], [744.0, 357.0], [744.0, 371.0], [585.0, 371.0]],[[319.0, 377.0], [531.0, 377.0], [531.0, 401.0], [319.0, 401.0]],[[585.0, 371.0], [711.0, 371.0], [711.0, 392.0], [585.0, 392.0]],[[390.0, 422.0], [496.0, 422.0], [496.0, 446.0], [390.0, 446.0]],[[588.0, 422.0], [725.0, 425.0], [725.0, 452.0], [588.0, 450.0]]]\", # input\n",
    "        \"\", # output - leave this blank for generation!\n",
    "    )\n",
    "], return_tensors = \"pt\").to(\"cuda\")\n",
    "\n",
    "outputs = model.generate(**inputs, max_new_tokens = 64, use_cache = True)\n",
    "tokenizer.batch_decode(outputs)[0].split(\"Response\")[-1]"
   ]
  },
  {
   "cell_type": "code",
   "execution_count": null,
   "metadata": {
    "colab": {
     "base_uri": "https://localhost:8080/",
     "height": 53
    },
    "id": "zxebeWA6zzCF",
    "outputId": "7bbe5a10-9079-427c-f275-8b412934060f"
   },
   "outputs": [
    {
     "output_type": "stream",
     "name": "stderr",
     "text": [
      "Setting `pad_token_id` to `eos_token_id`:32000 for open-end generation.\n"
     ]
    },
    {
     "output_type": "execute_result",
     "data": {
      "text/plain": [
       "':\\n\\nThe person in the image was born in Paris, France.<|im_end|>'"
      ],
      "application/vnd.google.colaboratory.intrinsic+json": {
       "type": "string"
      }
     },
     "metadata": {},
     "execution_count": 6
    }
   ],
   "source": [
    "# alpaca_prompt = Copied from above\n",
    "FastLanguageModel.for_inference(model) # Enable native 2x faster inference\n",
    "inputs = tokenizer(\n",
    "[\n",
    "    alpaca_prompt.format(\n",
    "        \"where she is borned(country)\",\n",
    "        \"['REPUBLIOUE FRANCAISE',  'FR',  'CARTENATIONALEDIDENTITE/IDENTITYCARD',  'NOM/Sumame',  'MARTIN',  'Prenoms/Given.names',  'Maelys-Gaelle,Marie',  'SEXE/Sex',  'NATIONALITE/Nationalit',  'DATE DE NAlSS.YDate of birth',  'FRA',  '13071990',  'LIEUDE NAISSANCE/Place of birth',  'PARIS',  'NOM D'USAGE/ Altenate name',  'NOM D USAGE',  'NDU DOCUMENTLDocument No',  'DATE DEXPIR./Expiry date',  'X4RTBPFW4',  '11022030',  'Gnature',  '384213'],[[[184.0, 44.0], [608.0, 46.0], [608.0, 70.0], [184.0, 68.0]],[[668.0, 53.0], [717.0, 53.0], [717.0, 80.0], [668.0, 80.0]],[[185.0, 80.0], [609.0, 80.0], [609.0, 93.0], [185.0, 93.0]],[[313.0, 102.0], [408.0, 105.0], [408.0, 120.0], [313.0, 118.0]],[[317.0, 120.0], [431.0, 120.0], [431.0, 144.0], [317.0, 144.0]],[[319.0, 173.0], [447.0, 173.0], [447.0, 187.0], [319.0, 187.0]],[[317.0, 187.0], [558.0, 186.0], [558.0, 206.0], [317.0, 207.0]],[[317.0, 234.0], [388.0, 234.0], [388.0, 251.0], [317.0, 251.0]],[[410.0, 236.0], [553.0, 236.0], [553.0, 250.0], [410.0, 250.0]],[[585.0, 235.0], [758.0, 235.0], [758.0, 249.0], [585.0, 249.0]],[[408.0, 252.0], [456.0, 252.0], [456.0, 270.0], [408.0, 270.0]],[[585.0, 250.0], [711.0, 247.0], [711.0, 268.0], [585.0, 271.0]],[[319.0, 276.0], [521.0, 276.0], [521.0, 290.0], [319.0, 290.0]],[[317.0, 291.0], [388.0, 291.0], [388.0, 312.0], [317.0, 312.0]],[[318.0, 315.0], [494.0, 316.0], [494.0, 330.0], [318.0, 329.0]],[[319.0, 331.0], [493.0, 331.0], [493.0, 351.0], [319.0, 351.0]],[[320.0, 359.0], [511.0, 359.0], [511.0, 373.0], [320.0, 373.0]],[[585.0, 357.0], [744.0, 357.0], [744.0, 371.0], [585.0, 371.0]],[[319.0, 377.0], [531.0, 377.0], [531.0, 401.0], [319.0, 401.0]],[[585.0, 371.0], [711.0, 371.0], [711.0, 392.0], [585.0, 392.0]],[[390.0, 422.0], [496.0, 422.0], [496.0, 446.0], [390.0, 446.0]],[[588.0, 422.0], [725.0, 425.0], [725.0, 452.0], [588.0, 450.0]]]\", # input\n",
    "        \"\", # output - leave this blank for generation!\n",
    "    )\n",
    "], return_tensors = \"pt\").to(\"cuda\")\n",
    "\n",
    "outputs = model.generate(**inputs, max_new_tokens = 64, use_cache = True)\n",
    "tokenizer.batch_decode(outputs)[0].split(\"Response\")[-1]"
   ]
  },
  {
   "cell_type": "code",
   "execution_count": null,
   "metadata": {
    "colab": {
     "base_uri": "https://localhost:8080/",
     "height": 53
    },
    "id": "eQhc5GF1z208",
    "outputId": "0518379b-1ae0-421b-88a6-254fb95b9be0"
   },
   "outputs": [
    {
     "output_type": "stream",
     "name": "stderr",
     "text": [
      "Setting `pad_token_id` to `eos_token_id`:32000 for open-end generation.\n"
     ]
    },
    {
     "output_type": "execute_result",
     "data": {
      "text/plain": [
       "':\\n\\nThe person was born in Paris, which is located in the continent of Europe.<|im_end|>'"
      ],
      "application/vnd.google.colaboratory.intrinsic+json": {
       "type": "string"
      }
     },
     "metadata": {},
     "execution_count": 7
    }
   ],
   "source": [
    "# alpaca_prompt = Copied from above\n",
    "FastLanguageModel.for_inference(model) # Enable native 2x faster inference\n",
    "inputs = tokenizer(\n",
    "[\n",
    "    alpaca_prompt.format(\n",
    "        \"where she is borned(continent)\",\n",
    "        \"['REPUBLIOUE FRANCAISE',  'FR',  'CARTENATIONALEDIDENTITE/IDENTITYCARD',  'NOM/Sumame',  'MARTIN',  'Prenoms/Given.names',  'Maelys-Gaelle,Marie',  'SEXE/Sex',  'NATIONALITE/Nationalit',  'DATE DE NAlSS.YDate of birth',  'FRA',  '13071990',  'LIEUDE NAISSANCE/Place of birth',  'PARIS',  'NOM D'USAGE/ Altenate name',  'NOM D USAGE',  'NDU DOCUMENTLDocument No',  'DATE DEXPIR./Expiry date',  'X4RTBPFW4',  '11022030',  'Gnature',  '384213'],[[[184.0, 44.0], [608.0, 46.0], [608.0, 70.0], [184.0, 68.0]],[[668.0, 53.0], [717.0, 53.0], [717.0, 80.0], [668.0, 80.0]],[[185.0, 80.0], [609.0, 80.0], [609.0, 93.0], [185.0, 93.0]],[[313.0, 102.0], [408.0, 105.0], [408.0, 120.0], [313.0, 118.0]],[[317.0, 120.0], [431.0, 120.0], [431.0, 144.0], [317.0, 144.0]],[[319.0, 173.0], [447.0, 173.0], [447.0, 187.0], [319.0, 187.0]],[[317.0, 187.0], [558.0, 186.0], [558.0, 206.0], [317.0, 207.0]],[[317.0, 234.0], [388.0, 234.0], [388.0, 251.0], [317.0, 251.0]],[[410.0, 236.0], [553.0, 236.0], [553.0, 250.0], [410.0, 250.0]],[[585.0, 235.0], [758.0, 235.0], [758.0, 249.0], [585.0, 249.0]],[[408.0, 252.0], [456.0, 252.0], [456.0, 270.0], [408.0, 270.0]],[[585.0, 250.0], [711.0, 247.0], [711.0, 268.0], [585.0, 271.0]],[[319.0, 276.0], [521.0, 276.0], [521.0, 290.0], [319.0, 290.0]],[[317.0, 291.0], [388.0, 291.0], [388.0, 312.0], [317.0, 312.0]],[[318.0, 315.0], [494.0, 316.0], [494.0, 330.0], [318.0, 329.0]],[[319.0, 331.0], [493.0, 331.0], [493.0, 351.0], [319.0, 351.0]],[[320.0, 359.0], [511.0, 359.0], [511.0, 373.0], [320.0, 373.0]],[[585.0, 357.0], [744.0, 357.0], [744.0, 371.0], [585.0, 371.0]],[[319.0, 377.0], [531.0, 377.0], [531.0, 401.0], [319.0, 401.0]],[[585.0, 371.0], [711.0, 371.0], [711.0, 392.0], [585.0, 392.0]],[[390.0, 422.0], [496.0, 422.0], [496.0, 446.0], [390.0, 446.0]],[[588.0, 422.0], [725.0, 425.0], [725.0, 452.0], [588.0, 450.0]]]\", # input\n",
    "        \"\", # output - leave this blank for generation!\n",
    "    )\n",
    "], return_tensors = \"pt\").to(\"cuda\")\n",
    "\n",
    "outputs = model.generate(**inputs, max_new_tokens = 64, use_cache = True)\n",
    "tokenizer.batch_decode(outputs)[0].split(\"Response\")[-1]"
   ]
  },
  {
   "cell_type": "code",
   "execution_count": null,
   "metadata": {
    "colab": {
     "base_uri": "https://localhost:8080/",
     "height": 53
    },
    "id": "vCZPTL0uz6-y",
    "outputId": "aa537aa2-f957-49a4-80e8-5862d1e72bb7"
   },
   "outputs": [
    {
     "output_type": "stream",
     "name": "stderr",
     "text": [
      "Setting `pad_token_id` to `eos_token_id`:32000 for open-end generation.\n"
     ]
    },
    {
     "output_type": "execute_result",
     "data": {
      "text/plain": [
       "':\\n\\nThe document number is X4RTBPFW4.<|im_end|>'"
      ],
      "application/vnd.google.colaboratory.intrinsic+json": {
       "type": "string"
      }
     },
     "metadata": {},
     "execution_count": 8
    }
   ],
   "source": [
    "# alpaca_prompt = Copied from above\n",
    "FastLanguageModel.for_inference(model) # Enable native 2x faster inference\n",
    "inputs = tokenizer(\n",
    "[\n",
    "    alpaca_prompt.format(\n",
    "        \"what is the document number\",\n",
    "        \"['REPUBLIOUE FRANCAISE',  'FR',  'CARTENATIONALEDIDENTITE/IDENTITYCARD',  'NOM/Sumame',  'MARTIN',  'Prenoms/Given.names',  'Maelys-Gaelle,Marie',  'SEXE/Sex',  'NATIONALITE/Nationalit',  'DATE DE NAlSS.YDate of birth',  'FRA',  '13071990',  'LIEUDE NAISSANCE/Place of birth',  'PARIS',  'NOM D'USAGE/ Altenate name',  'NOM D USAGE',  'NDU DOCUMENTLDocument No',  'DATE DEXPIR./Expiry date',  'X4RTBPFW4',  '11022030',  'Gnature',  '384213'],[[[184.0, 44.0], [608.0, 46.0], [608.0, 70.0], [184.0, 68.0]],[[668.0, 53.0], [717.0, 53.0], [717.0, 80.0], [668.0, 80.0]],[[185.0, 80.0], [609.0, 80.0], [609.0, 93.0], [185.0, 93.0]],[[313.0, 102.0], [408.0, 105.0], [408.0, 120.0], [313.0, 118.0]],[[317.0, 120.0], [431.0, 120.0], [431.0, 144.0], [317.0, 144.0]],[[319.0, 173.0], [447.0, 173.0], [447.0, 187.0], [319.0, 187.0]],[[317.0, 187.0], [558.0, 186.0], [558.0, 206.0], [317.0, 207.0]],[[317.0, 234.0], [388.0, 234.0], [388.0, 251.0], [317.0, 251.0]],[[410.0, 236.0], [553.0, 236.0], [553.0, 250.0], [410.0, 250.0]],[[585.0, 235.0], [758.0, 235.0], [758.0, 249.0], [585.0, 249.0]],[[408.0, 252.0], [456.0, 252.0], [456.0, 270.0], [408.0, 270.0]],[[585.0, 250.0], [711.0, 247.0], [711.0, 268.0], [585.0, 271.0]],[[319.0, 276.0], [521.0, 276.0], [521.0, 290.0], [319.0, 290.0]],[[317.0, 291.0], [388.0, 291.0], [388.0, 312.0], [317.0, 312.0]],[[318.0, 315.0], [494.0, 316.0], [494.0, 330.0], [318.0, 329.0]],[[319.0, 331.0], [493.0, 331.0], [493.0, 351.0], [319.0, 351.0]],[[320.0, 359.0], [511.0, 359.0], [511.0, 373.0], [320.0, 373.0]],[[585.0, 357.0], [744.0, 357.0], [744.0, 371.0], [585.0, 371.0]],[[319.0, 377.0], [531.0, 377.0], [531.0, 401.0], [319.0, 401.0]],[[585.0, 371.0], [711.0, 371.0], [711.0, 392.0], [585.0, 392.0]],[[390.0, 422.0], [496.0, 422.0], [496.0, 446.0], [390.0, 446.0]],[[588.0, 422.0], [725.0, 425.0], [725.0, 452.0], [588.0, 450.0]]]\", # input\n",
    "        \"\", # output - leave this blank for generation!\n",
    "    )\n",
    "], return_tensors = \"pt\").to(\"cuda\")\n",
    "\n",
    "outputs = model.generate(**inputs, max_new_tokens = 64, use_cache = True)\n",
    "tokenizer.batch_decode(outputs)[0].split(\"Response\")[-1]"
   ]
  },
  {
   "cell_type": "code",
   "execution_count": null,
   "metadata": {
    "colab": {
     "base_uri": "https://localhost:8080/",
     "height": 53
    },
    "id": "_tW3Vm8J0BA-",
    "outputId": "97a70e49-e5c0-4ec6-bbc5-724e4565d9e3"
   },
   "outputs": [
    {
     "output_type": "stream",
     "name": "stderr",
     "text": [
      "Setting `pad_token_id` to `eos_token_id`:32000 for open-end generation.\n"
     ]
    },
    {
     "output_type": "execute_result",
     "data": {
      "text/plain": [
       "':\\n\\nThe title of the image is \"REPUBLIOUE FRANCAISE\".<|im_end|>'"
      ],
      "application/vnd.google.colaboratory.intrinsic+json": {
       "type": "string"
      }
     },
     "metadata": {},
     "execution_count": 9
    }
   ],
   "source": [
    "# alpaca_prompt = Copied from above\n",
    "FastLanguageModel.for_inference(model) # Enable native 2x faster inference\n",
    "inputs = tokenizer(\n",
    "[\n",
    "    alpaca_prompt.format(\n",
    "        \"what is the title \",\n",
    "        \"['REPUBLIOUE FRANCAISE',  'FR',  'CARTENATIONALEDIDENTITE/IDENTITYCARD',  'NOM/Sumame',  'MARTIN',  'Prenoms/Given.names',  'Maelys-Gaelle,Marie',  'SEXE/Sex',  'NATIONALITE/Nationalit',  'DATE DE NAlSS.YDate of birth',  'FRA',  '13071990',  'LIEUDE NAISSANCE/Place of birth',  'PARIS',  'NOM D'USAGE/ Altenate name',  'NOM D USAGE',  'NDU DOCUMENTLDocument No',  'DATE DEXPIR./Expiry date',  'X4RTBPFW4',  '11022030',  'Gnature',  '384213'],[[[184.0, 44.0], [608.0, 46.0], [608.0, 70.0], [184.0, 68.0]],[[668.0, 53.0], [717.0, 53.0], [717.0, 80.0], [668.0, 80.0]],[[185.0, 80.0], [609.0, 80.0], [609.0, 93.0], [185.0, 93.0]],[[313.0, 102.0], [408.0, 105.0], [408.0, 120.0], [313.0, 118.0]],[[317.0, 120.0], [431.0, 120.0], [431.0, 144.0], [317.0, 144.0]],[[319.0, 173.0], [447.0, 173.0], [447.0, 187.0], [319.0, 187.0]],[[317.0, 187.0], [558.0, 186.0], [558.0, 206.0], [317.0, 207.0]],[[317.0, 234.0], [388.0, 234.0], [388.0, 251.0], [317.0, 251.0]],[[410.0, 236.0], [553.0, 236.0], [553.0, 250.0], [410.0, 250.0]],[[585.0, 235.0], [758.0, 235.0], [758.0, 249.0], [585.0, 249.0]],[[408.0, 252.0], [456.0, 252.0], [456.0, 270.0], [408.0, 270.0]],[[585.0, 250.0], [711.0, 247.0], [711.0, 268.0], [585.0, 271.0]],[[319.0, 276.0], [521.0, 276.0], [521.0, 290.0], [319.0, 290.0]],[[317.0, 291.0], [388.0, 291.0], [388.0, 312.0], [317.0, 312.0]],[[318.0, 315.0], [494.0, 316.0], [494.0, 330.0], [318.0, 329.0]],[[319.0, 331.0], [493.0, 331.0], [493.0, 351.0], [319.0, 351.0]],[[320.0, 359.0], [511.0, 359.0], [511.0, 373.0], [320.0, 373.0]],[[585.0, 357.0], [744.0, 357.0], [744.0, 371.0], [585.0, 371.0]],[[319.0, 377.0], [531.0, 377.0], [531.0, 401.0], [319.0, 401.0]],[[585.0, 371.0], [711.0, 371.0], [711.0, 392.0], [585.0, 392.0]],[[390.0, 422.0], [496.0, 422.0], [496.0, 446.0], [390.0, 446.0]],[[588.0, 422.0], [725.0, 425.0], [725.0, 452.0], [588.0, 450.0]]]\", # input\n",
    "        \"\", # output - leave this blank for generation!\n",
    "    )\n",
    "], return_tensors = \"pt\").to(\"cuda\")\n",
    "\n",
    "outputs = model.generate(**inputs, max_new_tokens = 64, use_cache = True)\n",
    "tokenizer.batch_decode(outputs)[0].split(\"Response\")[-1]"
   ]
  },
  {
   "cell_type": "code",
   "execution_count": null,
   "metadata": {
    "colab": {
     "base_uri": "https://localhost:8080/",
     "height": 53
    },
    "id": "iixEpGWO0WeA",
    "outputId": "62dc0df4-a3f1-4a9a-86e7-d19e8ca0b9f6"
   },
   "outputs": [
    {
     "output_type": "stream",
     "name": "stderr",
     "text": [
      "Setting `pad_token_id` to `eos_token_id`:32000 for open-end generation.\n"
     ]
    },
    {
     "output_type": "execute_result",
     "data": {
      "text/plain": [
       "':\\n\\nThe gender of the person in the image is not specified in the provided information.<|im_end|>'"
      ],
      "application/vnd.google.colaboratory.intrinsic+json": {
       "type": "string"
      }
     },
     "metadata": {},
     "execution_count": 10
    }
   ],
   "source": [
    "# alpaca_prompt = Copied from above\n",
    "FastLanguageModel.for_inference(model) # Enable native 2x faster inference\n",
    "inputs = tokenizer(\n",
    "[\n",
    "    alpaca_prompt.format(\n",
    "        \"what is the gender\",\n",
    "        \"['REPUBLIOUE FRANCAISE',  'FR',  'CARTENATIONALEDIDENTITE/IDENTITYCARD',  'NOM/Sumame',  'MARTIN',  'Prenoms/Given.names',  'Maelys-Gaelle,Marie',  'SEXE/Sex',  'NATIONALITE/Nationalit',  'DATE DE NAlSS.YDate of birth',  'FRA',  '13071990',  'LIEUDE NAISSANCE/Place of birth',  'PARIS',  'NOM D'USAGE/ Altenate name',  'NOM D USAGE',  'NDU DOCUMENTLDocument No',  'DATE DEXPIR./Expiry date',  'X4RTBPFW4',  '11022030',  'Gnature',  '384213'],[[[184.0, 44.0], [608.0, 46.0], [608.0, 70.0], [184.0, 68.0]],[[668.0, 53.0], [717.0, 53.0], [717.0, 80.0], [668.0, 80.0]],[[185.0, 80.0], [609.0, 80.0], [609.0, 93.0], [185.0, 93.0]],[[313.0, 102.0], [408.0, 105.0], [408.0, 120.0], [313.0, 118.0]],[[317.0, 120.0], [431.0, 120.0], [431.0, 144.0], [317.0, 144.0]],[[319.0, 173.0], [447.0, 173.0], [447.0, 187.0], [319.0, 187.0]],[[317.0, 187.0], [558.0, 186.0], [558.0, 206.0], [317.0, 207.0]],[[317.0, 234.0], [388.0, 234.0], [388.0, 251.0], [317.0, 251.0]],[[410.0, 236.0], [553.0, 236.0], [553.0, 250.0], [410.0, 250.0]],[[585.0, 235.0], [758.0, 235.0], [758.0, 249.0], [585.0, 249.0]],[[408.0, 252.0], [456.0, 252.0], [456.0, 270.0], [408.0, 270.0]],[[585.0, 250.0], [711.0, 247.0], [711.0, 268.0], [585.0, 271.0]],[[319.0, 276.0], [521.0, 276.0], [521.0, 290.0], [319.0, 290.0]],[[317.0, 291.0], [388.0, 291.0], [388.0, 312.0], [317.0, 312.0]],[[318.0, 315.0], [494.0, 316.0], [494.0, 330.0], [318.0, 329.0]],[[319.0, 331.0], [493.0, 331.0], [493.0, 351.0], [319.0, 351.0]],[[320.0, 359.0], [511.0, 359.0], [511.0, 373.0], [320.0, 373.0]],[[585.0, 357.0], [744.0, 357.0], [744.0, 371.0], [585.0, 371.0]],[[319.0, 377.0], [531.0, 377.0], [531.0, 401.0], [319.0, 401.0]],[[585.0, 371.0], [711.0, 371.0], [711.0, 392.0], [585.0, 392.0]],[[390.0, 422.0], [496.0, 422.0], [496.0, 446.0], [390.0, 446.0]],[[588.0, 422.0], [725.0, 425.0], [725.0, 452.0], [588.0, 450.0]]]\", # input\n",
    "        \"\", # output - leave this blank for generation!\n",
    "    )\n",
    "], return_tensors = \"pt\").to(\"cuda\")\n",
    "\n",
    "outputs = model.generate(**inputs, max_new_tokens = 64, use_cache = True)\n",
    "tokenizer.batch_decode(outputs)[0].split(\"Response\")[-1]"
   ]
  },
  {
   "cell_type": "code",
   "execution_count": null,
   "metadata": {
    "colab": {
     "base_uri": "https://localhost:8080/",
     "height": 53
    },
    "id": "H3_E7OZI0KZJ",
    "outputId": "71c372df-f7e3-485a-e6ff-b54d865d4341"
   },
   "outputs": [
    {
     "output_type": "stream",
     "name": "stderr",
     "text": [
      "Setting `pad_token_id` to `eos_token_id`:32000 for open-end generation.\n"
     ]
    },
    {
     "output_type": "execute_result",
     "data": {
      "text/plain": [
       "':\\n\\nThe gender of the person in the image is not explicitly mentioned. However, the name \"Maelys-Gaelle,Marie\" suggests that the person might be female.<|im_end|>'"
      ],
      "application/vnd.google.colaboratory.intrinsic+json": {
       "type": "string"
      }
     },
     "metadata": {},
     "execution_count": 11
    }
   ],
   "source": [
    "# alpaca_prompt = Copied from above\n",
    "FastLanguageModel.for_inference(model) # Enable native 2x faster inference\n",
    "inputs = tokenizer(\n",
    "[\n",
    "    alpaca_prompt.format(\n",
    "        \"what is the gender(use your creativity if not found concrete information)\",\n",
    "        \"['REPUBLIOUE FRANCAISE',  'FR',  'CARTENATIONALEDIDENTITE/IDENTITYCARD',  'NOM/Sumame',  'MARTIN',  'Prenoms/Given.names',  'Maelys-Gaelle,Marie',  'SEXE/Sex',  'NATIONALITE/Nationalit',  'DATE DE NAlSS.YDate of birth',  'FRA',  '13071990',  'LIEUDE NAISSANCE/Place of birth',  'PARIS',  'NOM D'USAGE/ Altenate name',  'NOM D USAGE',  'NDU DOCUMENTLDocument No',  'DATE DEXPIR./Expiry date',  'X4RTBPFW4',  '11022030',  'Gnature',  '384213'],[[[184.0, 44.0], [608.0, 46.0], [608.0, 70.0], [184.0, 68.0]],[[668.0, 53.0], [717.0, 53.0], [717.0, 80.0], [668.0, 80.0]],[[185.0, 80.0], [609.0, 80.0], [609.0, 93.0], [185.0, 93.0]],[[313.0, 102.0], [408.0, 105.0], [408.0, 120.0], [313.0, 118.0]],[[317.0, 120.0], [431.0, 120.0], [431.0, 144.0], [317.0, 144.0]],[[319.0, 173.0], [447.0, 173.0], [447.0, 187.0], [319.0, 187.0]],[[317.0, 187.0], [558.0, 186.0], [558.0, 206.0], [317.0, 207.0]],[[317.0, 234.0], [388.0, 234.0], [388.0, 251.0], [317.0, 251.0]],[[410.0, 236.0], [553.0, 236.0], [553.0, 250.0], [410.0, 250.0]],[[585.0, 235.0], [758.0, 235.0], [758.0, 249.0], [585.0, 249.0]],[[408.0, 252.0], [456.0, 252.0], [456.0, 270.0], [408.0, 270.0]],[[585.0, 250.0], [711.0, 247.0], [711.0, 268.0], [585.0, 271.0]],[[319.0, 276.0], [521.0, 276.0], [521.0, 290.0], [319.0, 290.0]],[[317.0, 291.0], [388.0, 291.0], [388.0, 312.0], [317.0, 312.0]],[[318.0, 315.0], [494.0, 316.0], [494.0, 330.0], [318.0, 329.0]],[[319.0, 331.0], [493.0, 331.0], [493.0, 351.0], [319.0, 351.0]],[[320.0, 359.0], [511.0, 359.0], [511.0, 373.0], [320.0, 373.0]],[[585.0, 357.0], [744.0, 357.0], [744.0, 371.0], [585.0, 371.0]],[[319.0, 377.0], [531.0, 377.0], [531.0, 401.0], [319.0, 401.0]],[[585.0, 371.0], [711.0, 371.0], [711.0, 392.0], [585.0, 392.0]],[[390.0, 422.0], [496.0, 422.0], [496.0, 446.0], [390.0, 446.0]],[[588.0, 422.0], [725.0, 425.0], [725.0, 452.0], [588.0, 450.0]]]\", # input\n",
    "        \"\", # output - leave this blank for generation!\n",
    "    )\n",
    "], return_tensors = \"pt\").to(\"cuda\")\n",
    "\n",
    "outputs = model.generate(**inputs, max_new_tokens = 64, use_cache = True)\n",
    "tokenizer.batch_decode(outputs)[0].split(\"Response\")[-1]"
   ]
  },
  {
   "cell_type": "markdown",
   "metadata": {
    "id": "i4D2kDmEu6_J"
   },
   "source": [
    " You can also use a `TextStreamer` for continuous inference - so you can see the generation token by token, instead of waiting the whole time!"
   ]
  },
  {
   "cell_type": "code",
   "execution_count": null,
   "metadata": {
    "colab": {
     "base_uri": "https://localhost:8080/"
    },
    "id": "3i_RJwopu893",
    "outputId": "78af5856-bb9e-4b63-f7e9-29be9978d86e"
   },
   "outputs": [
    {
     "output_type": "stream",
     "name": "stderr",
     "text": [
      "Setting `pad_token_id` to `eos_token_id`:32000 for open-end generation.\n"
     ]
    },
    {
     "output_type": "stream",
     "name": "stdout",
     "text": [
      "<s> Below is an instruction that describes a task of layout question answering , paired with an input that provides further context that contain  a list of extracted blocks from that image then followed by a list of theirs bounding boxes represented by 4 point's cordinates of them in that image ,. Write a response that appropriately completes the request .\n",
      "\n",
      "### Instruction:\n",
      "what is the gender(use your creativity if not found concrete information)\n",
      "\n",
      "### Input:\n",
      "['REPUBLIOUE FRANCAISE',  'FR',  'CARTENATIONALEDIDENTITE/IDENTITYCARD',  'NOM/Sumame',  'MARTIN',  'Prenoms/Given.names',  'Maelys-Gaelle,Marie',  'SEXE/Sex',  'NATIONALITE/Nationalit',  'DATE DE NAlSS.YDate of birth',  'FRA',  '13071990',  'LIEUDE NAISSANCE/Place of birth',  'PARIS',  'NOM D'USAGE/ Altenate name',  'NOM D USAGE',  'NDU DOCUMENTLDocument No',  'DATE DEXPIR./Expiry date',  'X4RTBPFW4',  '11022030',  'Gnature',  '384213'],[[[184.0, 44.0], [608.0, 46.0], [608.0, 70.0], [184.0, 68.0]],[[668.0, 53.0], [717.0, 53.0], [717.0, 80.0], [668.0, 80.0]],[[185.0, 80.0], [609.0, 80.0], [609.0, 93.0], [185.0, 93.0]],[[313.0, 102.0], [408.0, 105.0], [408.0, 120.0], [313.0, 118.0]],[[317.0, 120.0], [431.0, 120.0], [431.0, 144.0], [317.0, 144.0]],[[319.0, 173.0], [447.0, 173.0], [447.0, 187.0], [319.0, 187.0]],[[317.0, 187.0], [558.0, 186.0], [558.0, 206.0], [317.0, 207.0]],[[317.0, 234.0], [388.0, 234.0], [388.0, 251.0], [317.0, 251.0]],[[410.0, 236.0], [553.0, 236.0], [553.0, 250.0], [410.0, 250.0]],[[585.0, 235.0], [758.0, 235.0], [758.0, 249.0], [585.0, 249.0]],[[408.0, 252.0], [456.0, 252.0], [456.0, 270.0], [408.0, 270.0]],[[585.0, 250.0], [711.0, 247.0], [711.0, 268.0], [585.0, 271.0]],[[319.0, 276.0], [521.0, 276.0], [521.0, 290.0], [319.0, 290.0]],[[317.0, 291.0], [388.0, 291.0], [388.0, 312.0], [317.0, 312.0]],[[318.0, 315.0], [494.0, 316.0], [494.0, 330.0], [318.0, 329.0]],[[319.0, 331.0], [493.0, 331.0], [493.0, 351.0], [319.0, 351.0]],[[320.0, 359.0], [511.0, 359.0], [511.0, 373.0], [320.0, 373.0]],[[585.0, 357.0], [744.0, 357.0], [744.0, 371.0], [585.0, 371.0]],[[319.0, 377.0], [531.0, 377.0], [531.0, 401.0], [319.0, 401.0]],[[585.0, 371.0], [711.0, 371.0], [711.0, 392.0], [585.0, 392.0]],[[390.0, 422.0], [496.0, 422.0], [496.0, 446.0], [390.0, 446.0]],[[588.0, 422.0], [725.0, 425.0], [725.0, 452.0], [588.0, 450.0]]]\n",
      "\n",
      "### Response:\n",
      "\n",
      "The gender of the person in the image is not explicitly mentioned. However, the name \"Maelys-Gaelle,Marie\" suggests that the person might be female.<|im_end|>\n"
     ]
    }
   ],
   "source": [
    "# alpaca_prompt = Copied from above\n",
    "FastLanguageModel.for_inference(model) # Enable native 2x faster inference\n",
    "inputs = tokenizer(\n",
    "[\n",
    "    alpaca_prompt.format(\n",
    "        \"what is the gender(use your creativity if not found concrete information)\",\n",
    "        \"['REPUBLIOUE FRANCAISE',  'FR',  'CARTENATIONALEDIDENTITE/IDENTITYCARD',  'NOM/Sumame',  'MARTIN',  'Prenoms/Given.names',  'Maelys-Gaelle,Marie',  'SEXE/Sex',  'NATIONALITE/Nationalit',  'DATE DE NAlSS.YDate of birth',  'FRA',  '13071990',  'LIEUDE NAISSANCE/Place of birth',  'PARIS',  'NOM D'USAGE/ Altenate name',  'NOM D USAGE',  'NDU DOCUMENTLDocument No',  'DATE DEXPIR./Expiry date',  'X4RTBPFW4',  '11022030',  'Gnature',  '384213'],[[[184.0, 44.0], [608.0, 46.0], [608.0, 70.0], [184.0, 68.0]],[[668.0, 53.0], [717.0, 53.0], [717.0, 80.0], [668.0, 80.0]],[[185.0, 80.0], [609.0, 80.0], [609.0, 93.0], [185.0, 93.0]],[[313.0, 102.0], [408.0, 105.0], [408.0, 120.0], [313.0, 118.0]],[[317.0, 120.0], [431.0, 120.0], [431.0, 144.0], [317.0, 144.0]],[[319.0, 173.0], [447.0, 173.0], [447.0, 187.0], [319.0, 187.0]],[[317.0, 187.0], [558.0, 186.0], [558.0, 206.0], [317.0, 207.0]],[[317.0, 234.0], [388.0, 234.0], [388.0, 251.0], [317.0, 251.0]],[[410.0, 236.0], [553.0, 236.0], [553.0, 250.0], [410.0, 250.0]],[[585.0, 235.0], [758.0, 235.0], [758.0, 249.0], [585.0, 249.0]],[[408.0, 252.0], [456.0, 252.0], [456.0, 270.0], [408.0, 270.0]],[[585.0, 250.0], [711.0, 247.0], [711.0, 268.0], [585.0, 271.0]],[[319.0, 276.0], [521.0, 276.0], [521.0, 290.0], [319.0, 290.0]],[[317.0, 291.0], [388.0, 291.0], [388.0, 312.0], [317.0, 312.0]],[[318.0, 315.0], [494.0, 316.0], [494.0, 330.0], [318.0, 329.0]],[[319.0, 331.0], [493.0, 331.0], [493.0, 351.0], [319.0, 351.0]],[[320.0, 359.0], [511.0, 359.0], [511.0, 373.0], [320.0, 373.0]],[[585.0, 357.0], [744.0, 357.0], [744.0, 371.0], [585.0, 371.0]],[[319.0, 377.0], [531.0, 377.0], [531.0, 401.0], [319.0, 401.0]],[[585.0, 371.0], [711.0, 371.0], [711.0, 392.0], [585.0, 392.0]],[[390.0, 422.0], [496.0, 422.0], [496.0, 446.0], [390.0, 446.0]],[[588.0, 422.0], [725.0, 425.0], [725.0, 452.0], [588.0, 450.0]]]\", # input\n",
    "        \"\", # output - leave this blank for generation!\n",
    "    )\n",
    "], return_tensors = \"pt\").to(\"cuda\")\n",
    "\n",
    "\n",
    "\n",
    "from transformers import TextStreamer\n",
    "text_streamer = TextStreamer(tokenizer)\n",
    "_ = model.generate(**inputs, streamer = text_streamer, max_new_tokens = 128)"
   ]
  },
  {
   "cell_type": "markdown",
   "metadata": {
    "id": "KRMSb0Qm3bbd"
   },
   "source": [
    "Up to 6.1 vram in inference"
   ]
  },
  {
   "cell_type": "markdown",
   "metadata": {
    "id": "nZ84b7Q-3wXv"
   },
   "source": [
    "# Expose the Model API using FLASK and ngrok free host  server"
   ]
  },
  {
   "cell_type": "markdown",
   "metadata": {
    "id": "yM4RuTAC1IxF"
   },
   "source": [
    "HOST PUBLIC API"
   ]
  },
  {
   "cell_type": "markdown",
   "metadata": {
    "id": "dD2jNuGT7Ffh"
   },
   "source": [
    "use flask"
   ]
  },
  {
   "cell_type": "code",
   "execution_count": null,
   "metadata": {
    "colab": {
     "base_uri": "https://localhost:8080/"
    },
    "id": "BnXwS7L14A2j",
    "outputId": "6bceca75-aebf-4264-e955-97ad56c3b260"
   },
   "outputs": [
    {
     "output_type": "stream",
     "name": "stdout",
     "text": [
      "Collecting pyngrok\n",
      "  Downloading pyngrok-7.1.6-py3-none-any.whl (22 kB)\n",
      "Requirement already satisfied: PyYAML>=5.1 in /usr/local/lib/python3.10/dist-packages (from pyngrok) (6.0.1)\n",
      "Installing collected packages: pyngrok\n",
      "Successfully installed pyngrok-7.1.6\n"
     ]
    }
   ],
   "source": [
    "!pip install pyngrok"
   ]
  },
  {
   "cell_type": "markdown",
   "metadata": {
    "id": "F0JpVB3v4oaX"
   },
   "source": [
    "authentification"
   ]
  },
  {
   "cell_type": "code",
   "execution_count": null,
   "metadata": {
    "id": "aSr4DQpc79AM"
   },
   "outputs": [],
   "source": []
  },
  {
   "cell_type": "code",
   "execution_count": null,
   "metadata": {
    "colab": {
     "base_uri": "https://localhost:8080/"
    },
    "id": "HznpFoLC4sod",
    "outputId": "52fae3a8-eacb-4bba-9468-48d35ec5455f"
   },
   "outputs": [
    {
     "output_type": "stream",
     "name": "stdout",
     "text": [
      "Authtoken saved to configuration file: /root/.config/ngrok/ngrok.yml\n"
     ]
    }
   ],
   "source": [
    "!ngrok config add-authtoken 2ew195GVVcciKtWUZw4GrDwbpMZ_81fEV6QhZFrHn3cb1afHC\n"
   ]
  },
  {
   "cell_type": "code",
   "execution_count": null,
   "metadata": {
    "id": "iQgx2EnB7GP5",
    "colab": {
     "base_uri": "https://localhost:8080/"
    },
    "outputId": "5eaa5393-caff-4c7d-b33d-e6a77b343cac"
   },
   "outputs": [
    {
     "output_type": "stream",
     "name": "stdout",
     "text": [
      "Requirement already satisfied: Flask in /usr/local/lib/python3.10/dist-packages (2.2.5)\n",
      "Requirement already satisfied: Werkzeug>=2.2.2 in /usr/local/lib/python3.10/dist-packages (from Flask) (3.0.2)\n",
      "Requirement already satisfied: Jinja2>=3.0 in /usr/local/lib/python3.10/dist-packages (from Flask) (3.1.3)\n",
      "Requirement already satisfied: itsdangerous>=2.0 in /usr/local/lib/python3.10/dist-packages (from Flask) (2.2.0)\n",
      "Requirement already satisfied: click>=8.0 in /usr/local/lib/python3.10/dist-packages (from Flask) (8.1.7)\n",
      "Requirement already satisfied: MarkupSafe>=2.0 in /usr/local/lib/python3.10/dist-packages (from Jinja2>=3.0->Flask) (2.1.5)\n"
     ]
    }
   ],
   "source": [
    "!pip install Flask\n"
   ]
  },
  {
   "cell_type": "code",
   "source": [
    "!pip install flask\n",
    "!wget https://bin.equinox.io/c/4VmDzA7iaHb/ngrok-stable-linux-amd64.zip\n",
    "!unzip ngrok-stable-linux-amd64.zip\n"
   ],
   "metadata": {
    "colab": {
     "base_uri": "https://localhost:8080/"
    },
    "id": "3Wt5ESJi10ZO",
    "outputId": "21b01614-a3a9-47b2-d402-eb139292f24b"
   },
   "execution_count": null,
   "outputs": [
    {
     "output_type": "stream",
     "name": "stdout",
     "text": [
      "Requirement already satisfied: flask in /usr/local/lib/python3.10/dist-packages (2.2.5)\n",
      "Requirement already satisfied: Werkzeug>=2.2.2 in /usr/local/lib/python3.10/dist-packages (from flask) (3.0.2)\n",
      "Requirement already satisfied: Jinja2>=3.0 in /usr/local/lib/python3.10/dist-packages (from flask) (3.1.3)\n",
      "Requirement already satisfied: itsdangerous>=2.0 in /usr/local/lib/python3.10/dist-packages (from flask) (2.2.0)\n",
      "Requirement already satisfied: click>=8.0 in /usr/local/lib/python3.10/dist-packages (from flask) (8.1.7)\n",
      "Requirement already satisfied: MarkupSafe>=2.0 in /usr/local/lib/python3.10/dist-packages (from Jinja2>=3.0->flask) (2.1.5)\n",
      "--2024-04-22 22:32:44--  https://bin.equinox.io/c/4VmDzA7iaHb/ngrok-stable-linux-amd64.zip\n",
      "Resolving bin.equinox.io (bin.equinox.io)... 54.161.241.46, 52.202.168.65, 54.237.133.81, ...\n",
      "Connecting to bin.equinox.io (bin.equinox.io)|54.161.241.46|:443... connected.\n",
      "HTTP request sent, awaiting response... 200 OK\n",
      "Length: 13921656 (13M) [application/octet-stream]\n",
      "Saving to: ‘ngrok-stable-linux-amd64.zip’\n",
      "\n",
      "ngrok-stable-linux- 100%[===================>]  13.28M  19.5MB/s    in 0.7s    \n",
      "\n",
      "2024-04-22 22:32:45 (19.5 MB/s) - ‘ngrok-stable-linux-amd64.zip’ saved [13921656/13921656]\n",
      "\n",
      "Archive:  ngrok-stable-linux-amd64.zip\n",
      "  inflating: ngrok                   \n"
     ]
    }
   ]
  },
  {
   "cell_type": "code",
   "execution_count": null,
   "metadata": {
    "colab": {
     "base_uri": "https://localhost:8080/"
    },
    "id": "E9BzT3mk_BsH",
    "outputId": "bc2da150-51d6-48f7-f8e7-a183c0c3c823"
   },
   "outputs": [
    {
     "output_type": "stream",
     "name": "stdout",
     "text": [
      "Public URL: https://5aa1-34-125-74-41.ngrok-free.app\n",
      " * Serving Flask app '__main__'\n",
      " * Debug mode: off\n"
     ]
    },
    {
     "output_type": "stream",
     "name": "stderr",
     "text": [
      "INFO:werkzeug:\u001B[31m\u001B[1mWARNING: This is a development server. Do not use it in a production deployment. Use a production WSGI server instead.\u001B[0m\n",
      " * Running on all addresses (0.0.0.0)\n",
      " * Running on http://127.0.0.1:8000\n",
      " * Running on http://172.28.0.12:8000\n",
      "INFO:werkzeug:\u001B[33mPress CTRL+C to quit\u001B[0m\n",
      "Setting `pad_token_id` to `eos_token_id`:32000 for open-end generation.\n",
      "INFO:werkzeug:127.0.0.1 - - [22/Apr/2024 23:39:02] \"POST /post HTTP/1.1\" 200 -\n",
      "Setting `pad_token_id` to `eos_token_id`:32000 for open-end generation.\n",
      "INFO:werkzeug:127.0.0.1 - - [22/Apr/2024 23:39:38] \"POST /post HTTP/1.1\" 200 -\n",
      "Setting `pad_token_id` to `eos_token_id`:32000 for open-end generation.\n",
      "INFO:werkzeug:127.0.0.1 - - [22/Apr/2024 23:40:07] \"POST /post HTTP/1.1\" 200 -\n",
      "Setting `pad_token_id` to `eos_token_id`:32000 for open-end generation.\n",
      "INFO:werkzeug:127.0.0.1 - - [22/Apr/2024 23:40:23] \"POST /post HTTP/1.1\" 200 -\n",
      "Setting `pad_token_id` to `eos_token_id`:32000 for open-end generation.\n",
      "INFO:werkzeug:127.0.0.1 - - [22/Apr/2024 23:40:41] \"POST /post HTTP/1.1\" 200 -\n",
      "Setting `pad_token_id` to `eos_token_id`:32000 for open-end generation.\n",
      "INFO:werkzeug:127.0.0.1 - - [22/Apr/2024 23:41:26] \"POST /post HTTP/1.1\" 200 -\n"
     ]
    }
   ],
   "source": [
    "from flask import Flask, request, jsonify, abort\n",
    "from pyngrok import ngrok\n",
    "import json\n",
    "\n",
    "app = Flask(__name__)\n",
    "\n",
    "@app.route('/')\n",
    "def hello_world():\n",
    "    return 'Hello, World!'\n",
    "\n",
    "@app.route('/post', methods=['POST'])\n",
    "def post_example():\n",
    "    data = request.json\n",
    "    texts = data.get('texts')\n",
    "    boxes = data.get('boxes')\n",
    "    nested_boxes = json.dumps(boxes)\n",
    "    nested_texts = json.dumps(texts)\n",
    "    instruction = data.get('instruction')\n",
    "\n",
    "    # Assuming model and tokenizer are already defined elsewhere in your code\n",
    "    inputs = tokenizer([\n",
    "        alpaca_prompt.format(\n",
    "            \" \".join(instruction)+ \"(use your creativity if not found concrete information)\",\n",
    "            nested_texts+\" \"+nested_boxes, # input\n",
    "            \"\", # output - leave this blank for generation!\n",
    "        )\n",
    "    ], return_tensors=\"pt\").to(\"cuda\")\n",
    "\n",
    "    try:\n",
    "        outputs = model.generate(**inputs, max_new_tokens=1000, use_cache=True)\n",
    "        answer = tokenizer.batch_decode(outputs)[0].split(\"Response\")[-1]\n",
    "        if not answer:\n",
    "            raise ValueError(\"Empty answer\")\n",
    "    except Exception as e:\n",
    "        # If there's an error, raise a 500 HTTP error\n",
    "        abort(500, description=str(e))\n",
    "\n",
    "    return jsonify({\"answer\": answer})\n",
    "\n",
    "# Set the address and port of your Flask application\n",
    "address = 'localhost'\n",
    "port = 8000\n",
    "\n",
    "# Open an HTTP tunnel on the default ngrok port 80\n",
    "ngrok_tunnel = ngrok.connect(addr=f'{address}:{port}')\n",
    "\n",
    "# Get the public URL of the tunnel\n",
    "public_url = ngrok_tunnel.public_url\n",
    "print(\"Public URL:\", public_url)\n",
    "\n",
    "# Start the Flask application\n",
    "if __name__ == '__main__':\n",
    "    app.run(host='0.0.0.0', port=port)\n"
   ]
  }
 ],
 "metadata": {
  "accelerator": "GPU",
  "colab": {
   "gpuType": "T4",
   "provenance": []
  },
  "kernelspec": {
   "display_name": "Python 3",
   "name": "python3"
  },
  "language_info": {
   "name": "python"
  },
  "widgets": {
   "application/vnd.jupyter.widget-state+json": {
    "77682caf07674f83b4fee40477d8c543": {
     "model_module": "@jupyter-widgets/controls",
     "model_name": "HBoxModel",
     "model_module_version": "1.5.0",
     "state": {
      "_dom_classes": [],
      "_model_module": "@jupyter-widgets/controls",
      "_model_module_version": "1.5.0",
      "_model_name": "HBoxModel",
      "_view_count": null,
      "_view_module": "@jupyter-widgets/controls",
      "_view_module_version": "1.5.0",
      "_view_name": "HBoxView",
      "box_style": "",
      "children": [
       "IPY_MODEL_684028f9d8ad457a8bde188a2d9f6ef8",
       "IPY_MODEL_3622307060d4466d8fbfff43cc9b960b",
       "IPY_MODEL_013704dc86f5443bad04c4d33932c664"
      ],
      "layout": "IPY_MODEL_a036115942894509a28d412a10075828"
     }
    },
    "684028f9d8ad457a8bde188a2d9f6ef8": {
     "model_module": "@jupyter-widgets/controls",
     "model_name": "HTMLModel",
     "model_module_version": "1.5.0",
     "state": {
      "_dom_classes": [],
      "_model_module": "@jupyter-widgets/controls",
      "_model_module_version": "1.5.0",
      "_model_name": "HTMLModel",
      "_view_count": null,
      "_view_module": "@jupyter-widgets/controls",
      "_view_module_version": "1.5.0",
      "_view_name": "HTMLView",
      "description": "",
      "description_tooltip": null,
      "layout": "IPY_MODEL_4f351736daa04f7ebf42ab7ce9e68ba7",
      "placeholder": "​",
      "style": "IPY_MODEL_0152d911c39d4ed085a5b81e454a15e3",
      "value": "config.json: 100%"
     }
    },
    "3622307060d4466d8fbfff43cc9b960b": {
     "model_module": "@jupyter-widgets/controls",
     "model_name": "FloatProgressModel",
     "model_module_version": "1.5.0",
     "state": {
      "_dom_classes": [],
      "_model_module": "@jupyter-widgets/controls",
      "_model_module_version": "1.5.0",
      "_model_name": "FloatProgressModel",
      "_view_count": null,
      "_view_module": "@jupyter-widgets/controls",
      "_view_module_version": "1.5.0",
      "_view_name": "ProgressView",
      "bar_style": "success",
      "description": "",
      "description_tooltip": null,
      "layout": "IPY_MODEL_e3aa545fb904480cbf743d62281cdd8a",
      "max": 1118,
      "min": 0,
      "orientation": "horizontal",
      "style": "IPY_MODEL_cbdc3afbf1b544a3b289fc91b5720e9c",
      "value": 1118
     }
    },
    "013704dc86f5443bad04c4d33932c664": {
     "model_module": "@jupyter-widgets/controls",
     "model_name": "HTMLModel",
     "model_module_version": "1.5.0",
     "state": {
      "_dom_classes": [],
      "_model_module": "@jupyter-widgets/controls",
      "_model_module_version": "1.5.0",
      "_model_name": "HTMLModel",
      "_view_count": null,
      "_view_module": "@jupyter-widgets/controls",
      "_view_module_version": "1.5.0",
      "_view_name": "HTMLView",
      "description": "",
      "description_tooltip": null,
      "layout": "IPY_MODEL_90e92fcea8e14fbb8058c33b025cbed1",
      "placeholder": "​",
      "style": "IPY_MODEL_24e01b0905744945842a373aab7a6c66",
      "value": " 1.12k/1.12k [00:00&lt;00:00, 62.3kB/s]"
     }
    },
    "a036115942894509a28d412a10075828": {
     "model_module": "@jupyter-widgets/base",
     "model_name": "LayoutModel",
     "model_module_version": "1.2.0",
     "state": {
      "_model_module": "@jupyter-widgets/base",
      "_model_module_version": "1.2.0",
      "_model_name": "LayoutModel",
      "_view_count": null,
      "_view_module": "@jupyter-widgets/base",
      "_view_module_version": "1.2.0",
      "_view_name": "LayoutView",
      "align_content": null,
      "align_items": null,
      "align_self": null,
      "border": null,
      "bottom": null,
      "display": null,
      "flex": null,
      "flex_flow": null,
      "grid_area": null,
      "grid_auto_columns": null,
      "grid_auto_flow": null,
      "grid_auto_rows": null,
      "grid_column": null,
      "grid_gap": null,
      "grid_row": null,
      "grid_template_areas": null,
      "grid_template_columns": null,
      "grid_template_rows": null,
      "height": null,
      "justify_content": null,
      "justify_items": null,
      "left": null,
      "margin": null,
      "max_height": null,
      "max_width": null,
      "min_height": null,
      "min_width": null,
      "object_fit": null,
      "object_position": null,
      "order": null,
      "overflow": null,
      "overflow_x": null,
      "overflow_y": null,
      "padding": null,
      "right": null,
      "top": null,
      "visibility": null,
      "width": null
     }
    },
    "4f351736daa04f7ebf42ab7ce9e68ba7": {
     "model_module": "@jupyter-widgets/base",
     "model_name": "LayoutModel",
     "model_module_version": "1.2.0",
     "state": {
      "_model_module": "@jupyter-widgets/base",
      "_model_module_version": "1.2.0",
      "_model_name": "LayoutModel",
      "_view_count": null,
      "_view_module": "@jupyter-widgets/base",
      "_view_module_version": "1.2.0",
      "_view_name": "LayoutView",
      "align_content": null,
      "align_items": null,
      "align_self": null,
      "border": null,
      "bottom": null,
      "display": null,
      "flex": null,
      "flex_flow": null,
      "grid_area": null,
      "grid_auto_columns": null,
      "grid_auto_flow": null,
      "grid_auto_rows": null,
      "grid_column": null,
      "grid_gap": null,
      "grid_row": null,
      "grid_template_areas": null,
      "grid_template_columns": null,
      "grid_template_rows": null,
      "height": null,
      "justify_content": null,
      "justify_items": null,
      "left": null,
      "margin": null,
      "max_height": null,
      "max_width": null,
      "min_height": null,
      "min_width": null,
      "object_fit": null,
      "object_position": null,
      "order": null,
      "overflow": null,
      "overflow_x": null,
      "overflow_y": null,
      "padding": null,
      "right": null,
      "top": null,
      "visibility": null,
      "width": null
     }
    },
    "0152d911c39d4ed085a5b81e454a15e3": {
     "model_module": "@jupyter-widgets/controls",
     "model_name": "DescriptionStyleModel",
     "model_module_version": "1.5.0",
     "state": {
      "_model_module": "@jupyter-widgets/controls",
      "_model_module_version": "1.5.0",
      "_model_name": "DescriptionStyleModel",
      "_view_count": null,
      "_view_module": "@jupyter-widgets/base",
      "_view_module_version": "1.2.0",
      "_view_name": "StyleView",
      "description_width": ""
     }
    },
    "e3aa545fb904480cbf743d62281cdd8a": {
     "model_module": "@jupyter-widgets/base",
     "model_name": "LayoutModel",
     "model_module_version": "1.2.0",
     "state": {
      "_model_module": "@jupyter-widgets/base",
      "_model_module_version": "1.2.0",
      "_model_name": "LayoutModel",
      "_view_count": null,
      "_view_module": "@jupyter-widgets/base",
      "_view_module_version": "1.2.0",
      "_view_name": "LayoutView",
      "align_content": null,
      "align_items": null,
      "align_self": null,
      "border": null,
      "bottom": null,
      "display": null,
      "flex": null,
      "flex_flow": null,
      "grid_area": null,
      "grid_auto_columns": null,
      "grid_auto_flow": null,
      "grid_auto_rows": null,
      "grid_column": null,
      "grid_gap": null,
      "grid_row": null,
      "grid_template_areas": null,
      "grid_template_columns": null,
      "grid_template_rows": null,
      "height": null,
      "justify_content": null,
      "justify_items": null,
      "left": null,
      "margin": null,
      "max_height": null,
      "max_width": null,
      "min_height": null,
      "min_width": null,
      "object_fit": null,
      "object_position": null,
      "order": null,
      "overflow": null,
      "overflow_x": null,
      "overflow_y": null,
      "padding": null,
      "right": null,
      "top": null,
      "visibility": null,
      "width": null
     }
    },
    "cbdc3afbf1b544a3b289fc91b5720e9c": {
     "model_module": "@jupyter-widgets/controls",
     "model_name": "ProgressStyleModel",
     "model_module_version": "1.5.0",
     "state": {
      "_model_module": "@jupyter-widgets/controls",
      "_model_module_version": "1.5.0",
      "_model_name": "ProgressStyleModel",
      "_view_count": null,
      "_view_module": "@jupyter-widgets/base",
      "_view_module_version": "1.2.0",
      "_view_name": "StyleView",
      "bar_color": null,
      "description_width": ""
     }
    },
    "90e92fcea8e14fbb8058c33b025cbed1": {
     "model_module": "@jupyter-widgets/base",
     "model_name": "LayoutModel",
     "model_module_version": "1.2.0",
     "state": {
      "_model_module": "@jupyter-widgets/base",
      "_model_module_version": "1.2.0",
      "_model_name": "LayoutModel",
      "_view_count": null,
      "_view_module": "@jupyter-widgets/base",
      "_view_module_version": "1.2.0",
      "_view_name": "LayoutView",
      "align_content": null,
      "align_items": null,
      "align_self": null,
      "border": null,
      "bottom": null,
      "display": null,
      "flex": null,
      "flex_flow": null,
      "grid_area": null,
      "grid_auto_columns": null,
      "grid_auto_flow": null,
      "grid_auto_rows": null,
      "grid_column": null,
      "grid_gap": null,
      "grid_row": null,
      "grid_template_areas": null,
      "grid_template_columns": null,
      "grid_template_rows": null,
      "height": null,
      "justify_content": null,
      "justify_items": null,
      "left": null,
      "margin": null,
      "max_height": null,
      "max_width": null,
      "min_height": null,
      "min_width": null,
      "object_fit": null,
      "object_position": null,
      "order": null,
      "overflow": null,
      "overflow_x": null,
      "overflow_y": null,
      "padding": null,
      "right": null,
      "top": null,
      "visibility": null,
      "width": null
     }
    },
    "24e01b0905744945842a373aab7a6c66": {
     "model_module": "@jupyter-widgets/controls",
     "model_name": "DescriptionStyleModel",
     "model_module_version": "1.5.0",
     "state": {
      "_model_module": "@jupyter-widgets/controls",
      "_model_module_version": "1.5.0",
      "_model_name": "DescriptionStyleModel",
      "_view_count": null,
      "_view_module": "@jupyter-widgets/base",
      "_view_module_version": "1.2.0",
      "_view_name": "StyleView",
      "description_width": ""
     }
    },
    "9b3ae014a0c148f9b8be70c5d07678c9": {
     "model_module": "@jupyter-widgets/controls",
     "model_name": "HBoxModel",
     "model_module_version": "1.5.0",
     "state": {
      "_dom_classes": [],
      "_model_module": "@jupyter-widgets/controls",
      "_model_module_version": "1.5.0",
      "_model_name": "HBoxModel",
      "_view_count": null,
      "_view_module": "@jupyter-widgets/controls",
      "_view_module_version": "1.5.0",
      "_view_name": "HBoxView",
      "box_style": "",
      "children": [
       "IPY_MODEL_f6735f19860c46c1a9d86d12e89d442b",
       "IPY_MODEL_ab605a72e10746458b68081ece945b10",
       "IPY_MODEL_7d3e428895534c88844d48ff697f24e6"
      ],
      "layout": "IPY_MODEL_f640f9a181ce46ed8f8e4439dd236331"
     }
    },
    "f6735f19860c46c1a9d86d12e89d442b": {
     "model_module": "@jupyter-widgets/controls",
     "model_name": "HTMLModel",
     "model_module_version": "1.5.0",
     "state": {
      "_dom_classes": [],
      "_model_module": "@jupyter-widgets/controls",
      "_model_module_version": "1.5.0",
      "_model_name": "HTMLModel",
      "_view_count": null,
      "_view_module": "@jupyter-widgets/controls",
      "_view_module_version": "1.5.0",
      "_view_name": "HTMLView",
      "description": "",
      "description_tooltip": null,
      "layout": "IPY_MODEL_b25c43f364334326b00cd301d6c6f259",
      "placeholder": "​",
      "style": "IPY_MODEL_ae7b360ef64845d79c2ea2e0f1e110b2",
      "value": "model.safetensors: 100%"
     }
    },
    "ab605a72e10746458b68081ece945b10": {
     "model_module": "@jupyter-widgets/controls",
     "model_name": "FloatProgressModel",
     "model_module_version": "1.5.0",
     "state": {
      "_dom_classes": [],
      "_model_module": "@jupyter-widgets/controls",
      "_model_module_version": "1.5.0",
      "_model_name": "FloatProgressModel",
      "_view_count": null,
      "_view_module": "@jupyter-widgets/controls",
      "_view_module_version": "1.5.0",
      "_view_name": "ProgressView",
      "bar_style": "success",
      "description": "",
      "description_tooltip": null,
      "layout": "IPY_MODEL_aad0a3d42be94b6c942bffe54c094e91",
      "max": 4125720671,
      "min": 0,
      "orientation": "horizontal",
      "style": "IPY_MODEL_9040651aa4cd4fcab571ac77109dc030",
      "value": 4125720671
     }
    },
    "7d3e428895534c88844d48ff697f24e6": {
     "model_module": "@jupyter-widgets/controls",
     "model_name": "HTMLModel",
     "model_module_version": "1.5.0",
     "state": {
      "_dom_classes": [],
      "_model_module": "@jupyter-widgets/controls",
      "_model_module_version": "1.5.0",
      "_model_name": "HTMLModel",
      "_view_count": null,
      "_view_module": "@jupyter-widgets/controls",
      "_view_module_version": "1.5.0",
      "_view_name": "HTMLView",
      "description": "",
      "description_tooltip": null,
      "layout": "IPY_MODEL_198e9eb922174af596ddec8355334464",
      "placeholder": "​",
      "style": "IPY_MODEL_514303d1ad1d4c15b0c2780924ed35b9",
      "value": " 4.13G/4.13G [00:40&lt;00:00, 132MB/s]"
     }
    },
    "f640f9a181ce46ed8f8e4439dd236331": {
     "model_module": "@jupyter-widgets/base",
     "model_name": "LayoutModel",
     "model_module_version": "1.2.0",
     "state": {
      "_model_module": "@jupyter-widgets/base",
      "_model_module_version": "1.2.0",
      "_model_name": "LayoutModel",
      "_view_count": null,
      "_view_module": "@jupyter-widgets/base",
      "_view_module_version": "1.2.0",
      "_view_name": "LayoutView",
      "align_content": null,
      "align_items": null,
      "align_self": null,
      "border": null,
      "bottom": null,
      "display": null,
      "flex": null,
      "flex_flow": null,
      "grid_area": null,
      "grid_auto_columns": null,
      "grid_auto_flow": null,
      "grid_auto_rows": null,
      "grid_column": null,
      "grid_gap": null,
      "grid_row": null,
      "grid_template_areas": null,
      "grid_template_columns": null,
      "grid_template_rows": null,
      "height": null,
      "justify_content": null,
      "justify_items": null,
      "left": null,
      "margin": null,
      "max_height": null,
      "max_width": null,
      "min_height": null,
      "min_width": null,
      "object_fit": null,
      "object_position": null,
      "order": null,
      "overflow": null,
      "overflow_x": null,
      "overflow_y": null,
      "padding": null,
      "right": null,
      "top": null,
      "visibility": null,
      "width": null
     }
    },
    "b25c43f364334326b00cd301d6c6f259": {
     "model_module": "@jupyter-widgets/base",
     "model_name": "LayoutModel",
     "model_module_version": "1.2.0",
     "state": {
      "_model_module": "@jupyter-widgets/base",
      "_model_module_version": "1.2.0",
      "_model_name": "LayoutModel",
      "_view_count": null,
      "_view_module": "@jupyter-widgets/base",
      "_view_module_version": "1.2.0",
      "_view_name": "LayoutView",
      "align_content": null,
      "align_items": null,
      "align_self": null,
      "border": null,
      "bottom": null,
      "display": null,
      "flex": null,
      "flex_flow": null,
      "grid_area": null,
      "grid_auto_columns": null,
      "grid_auto_flow": null,
      "grid_auto_rows": null,
      "grid_column": null,
      "grid_gap": null,
      "grid_row": null,
      "grid_template_areas": null,
      "grid_template_columns": null,
      "grid_template_rows": null,
      "height": null,
      "justify_content": null,
      "justify_items": null,
      "left": null,
      "margin": null,
      "max_height": null,
      "max_width": null,
      "min_height": null,
      "min_width": null,
      "object_fit": null,
      "object_position": null,
      "order": null,
      "overflow": null,
      "overflow_x": null,
      "overflow_y": null,
      "padding": null,
      "right": null,
      "top": null,
      "visibility": null,
      "width": null
     }
    },
    "ae7b360ef64845d79c2ea2e0f1e110b2": {
     "model_module": "@jupyter-widgets/controls",
     "model_name": "DescriptionStyleModel",
     "model_module_version": "1.5.0",
     "state": {
      "_model_module": "@jupyter-widgets/controls",
      "_model_module_version": "1.5.0",
      "_model_name": "DescriptionStyleModel",
      "_view_count": null,
      "_view_module": "@jupyter-widgets/base",
      "_view_module_version": "1.2.0",
      "_view_name": "StyleView",
      "description_width": ""
     }
    },
    "aad0a3d42be94b6c942bffe54c094e91": {
     "model_module": "@jupyter-widgets/base",
     "model_name": "LayoutModel",
     "model_module_version": "1.2.0",
     "state": {
      "_model_module": "@jupyter-widgets/base",
      "_model_module_version": "1.2.0",
      "_model_name": "LayoutModel",
      "_view_count": null,
      "_view_module": "@jupyter-widgets/base",
      "_view_module_version": "1.2.0",
      "_view_name": "LayoutView",
      "align_content": null,
      "align_items": null,
      "align_self": null,
      "border": null,
      "bottom": null,
      "display": null,
      "flex": null,
      "flex_flow": null,
      "grid_area": null,
      "grid_auto_columns": null,
      "grid_auto_flow": null,
      "grid_auto_rows": null,
      "grid_column": null,
      "grid_gap": null,
      "grid_row": null,
      "grid_template_areas": null,
      "grid_template_columns": null,
      "grid_template_rows": null,
      "height": null,
      "justify_content": null,
      "justify_items": null,
      "left": null,
      "margin": null,
      "max_height": null,
      "max_width": null,
      "min_height": null,
      "min_width": null,
      "object_fit": null,
      "object_position": null,
      "order": null,
      "overflow": null,
      "overflow_x": null,
      "overflow_y": null,
      "padding": null,
      "right": null,
      "top": null,
      "visibility": null,
      "width": null
     }
    },
    "9040651aa4cd4fcab571ac77109dc030": {
     "model_module": "@jupyter-widgets/controls",
     "model_name": "ProgressStyleModel",
     "model_module_version": "1.5.0",
     "state": {
      "_model_module": "@jupyter-widgets/controls",
      "_model_module_version": "1.5.0",
      "_model_name": "ProgressStyleModel",
      "_view_count": null,
      "_view_module": "@jupyter-widgets/base",
      "_view_module_version": "1.2.0",
      "_view_name": "StyleView",
      "bar_color": null,
      "description_width": ""
     }
    },
    "198e9eb922174af596ddec8355334464": {
     "model_module": "@jupyter-widgets/base",
     "model_name": "LayoutModel",
     "model_module_version": "1.2.0",
     "state": {
      "_model_module": "@jupyter-widgets/base",
      "_model_module_version": "1.2.0",
      "_model_name": "LayoutModel",
      "_view_count": null,
      "_view_module": "@jupyter-widgets/base",
      "_view_module_version": "1.2.0",
      "_view_name": "LayoutView",
      "align_content": null,
      "align_items": null,
      "align_self": null,
      "border": null,
      "bottom": null,
      "display": null,
      "flex": null,
      "flex_flow": null,
      "grid_area": null,
      "grid_auto_columns": null,
      "grid_auto_flow": null,
      "grid_auto_rows": null,
      "grid_column": null,
      "grid_gap": null,
      "grid_row": null,
      "grid_template_areas": null,
      "grid_template_columns": null,
      "grid_template_rows": null,
      "height": null,
      "justify_content": null,
      "justify_items": null,
      "left": null,
      "margin": null,
      "max_height": null,
      "max_width": null,
      "min_height": null,
      "min_width": null,
      "object_fit": null,
      "object_position": null,
      "order": null,
      "overflow": null,
      "overflow_x": null,
      "overflow_y": null,
      "padding": null,
      "right": null,
      "top": null,
      "visibility": null,
      "width": null
     }
    },
    "514303d1ad1d4c15b0c2780924ed35b9": {
     "model_module": "@jupyter-widgets/controls",
     "model_name": "DescriptionStyleModel",
     "model_module_version": "1.5.0",
     "state": {
      "_model_module": "@jupyter-widgets/controls",
      "_model_module_version": "1.5.0",
      "_model_name": "DescriptionStyleModel",
      "_view_count": null,
      "_view_module": "@jupyter-widgets/base",
      "_view_module_version": "1.2.0",
      "_view_name": "StyleView",
      "description_width": ""
     }
    },
    "62adc36c327047729956c9689ae8e006": {
     "model_module": "@jupyter-widgets/controls",
     "model_name": "HBoxModel",
     "model_module_version": "1.5.0",
     "state": {
      "_dom_classes": [],
      "_model_module": "@jupyter-widgets/controls",
      "_model_module_version": "1.5.0",
      "_model_name": "HBoxModel",
      "_view_count": null,
      "_view_module": "@jupyter-widgets/controls",
      "_view_module_version": "1.5.0",
      "_view_name": "HBoxView",
      "box_style": "",
      "children": [
       "IPY_MODEL_fa6de34d059d4b0c967b37ae5ef53247",
       "IPY_MODEL_5d08e7af2c6043bc9735f1efb101d182",
       "IPY_MODEL_4b974124321e4040bd368030435acb51"
      ],
      "layout": "IPY_MODEL_a8f963ab1ad54c66bee6b6b880e0aedf"
     }
    },
    "fa6de34d059d4b0c967b37ae5ef53247": {
     "model_module": "@jupyter-widgets/controls",
     "model_name": "HTMLModel",
     "model_module_version": "1.5.0",
     "state": {
      "_dom_classes": [],
      "_model_module": "@jupyter-widgets/controls",
      "_model_module_version": "1.5.0",
      "_model_name": "HTMLModel",
      "_view_count": null,
      "_view_module": "@jupyter-widgets/controls",
      "_view_module_version": "1.5.0",
      "_view_name": "HTMLView",
      "description": "",
      "description_tooltip": null,
      "layout": "IPY_MODEL_326abce947d6495e8b9a6815b7db202f",
      "placeholder": "​",
      "style": "IPY_MODEL_f55354a90b2a468ea9832b48b3ccb68e",
      "value": "generation_config.json: 100%"
     }
    },
    "5d08e7af2c6043bc9735f1efb101d182": {
     "model_module": "@jupyter-widgets/controls",
     "model_name": "FloatProgressModel",
     "model_module_version": "1.5.0",
     "state": {
      "_dom_classes": [],
      "_model_module": "@jupyter-widgets/controls",
      "_model_module_version": "1.5.0",
      "_model_name": "FloatProgressModel",
      "_view_count": null,
      "_view_module": "@jupyter-widgets/controls",
      "_view_module_version": "1.5.0",
      "_view_name": "ProgressView",
      "bar_style": "success",
      "description": "",
      "description_tooltip": null,
      "layout": "IPY_MODEL_da0edc4293c7478d86e12f0aef4b92cf",
      "max": 115,
      "min": 0,
      "orientation": "horizontal",
      "style": "IPY_MODEL_76bef4e7608e4da89d86b1b8476efac0",
      "value": 115
     }
    },
    "4b974124321e4040bd368030435acb51": {
     "model_module": "@jupyter-widgets/controls",
     "model_name": "HTMLModel",
     "model_module_version": "1.5.0",
     "state": {
      "_dom_classes": [],
      "_model_module": "@jupyter-widgets/controls",
      "_model_module_version": "1.5.0",
      "_model_name": "HTMLModel",
      "_view_count": null,
      "_view_module": "@jupyter-widgets/controls",
      "_view_module_version": "1.5.0",
      "_view_name": "HTMLView",
      "description": "",
      "description_tooltip": null,
      "layout": "IPY_MODEL_99b9cbb240984de5851ed14ae5811a5e",
      "placeholder": "​",
      "style": "IPY_MODEL_e5c7e72a9d5c4f98b445ec797e04ae9e",
      "value": " 115/115 [00:00&lt;00:00, 7.96kB/s]"
     }
    },
    "a8f963ab1ad54c66bee6b6b880e0aedf": {
     "model_module": "@jupyter-widgets/base",
     "model_name": "LayoutModel",
     "model_module_version": "1.2.0",
     "state": {
      "_model_module": "@jupyter-widgets/base",
      "_model_module_version": "1.2.0",
      "_model_name": "LayoutModel",
      "_view_count": null,
      "_view_module": "@jupyter-widgets/base",
      "_view_module_version": "1.2.0",
      "_view_name": "LayoutView",
      "align_content": null,
      "align_items": null,
      "align_self": null,
      "border": null,
      "bottom": null,
      "display": null,
      "flex": null,
      "flex_flow": null,
      "grid_area": null,
      "grid_auto_columns": null,
      "grid_auto_flow": null,
      "grid_auto_rows": null,
      "grid_column": null,
      "grid_gap": null,
      "grid_row": null,
      "grid_template_areas": null,
      "grid_template_columns": null,
      "grid_template_rows": null,
      "height": null,
      "justify_content": null,
      "justify_items": null,
      "left": null,
      "margin": null,
      "max_height": null,
      "max_width": null,
      "min_height": null,
      "min_width": null,
      "object_fit": null,
      "object_position": null,
      "order": null,
      "overflow": null,
      "overflow_x": null,
      "overflow_y": null,
      "padding": null,
      "right": null,
      "top": null,
      "visibility": null,
      "width": null
     }
    },
    "326abce947d6495e8b9a6815b7db202f": {
     "model_module": "@jupyter-widgets/base",
     "model_name": "LayoutModel",
     "model_module_version": "1.2.0",
     "state": {
      "_model_module": "@jupyter-widgets/base",
      "_model_module_version": "1.2.0",
      "_model_name": "LayoutModel",
      "_view_count": null,
      "_view_module": "@jupyter-widgets/base",
      "_view_module_version": "1.2.0",
      "_view_name": "LayoutView",
      "align_content": null,
      "align_items": null,
      "align_self": null,
      "border": null,
      "bottom": null,
      "display": null,
      "flex": null,
      "flex_flow": null,
      "grid_area": null,
      "grid_auto_columns": null,
      "grid_auto_flow": null,
      "grid_auto_rows": null,
      "grid_column": null,
      "grid_gap": null,
      "grid_row": null,
      "grid_template_areas": null,
      "grid_template_columns": null,
      "grid_template_rows": null,
      "height": null,
      "justify_content": null,
      "justify_items": null,
      "left": null,
      "margin": null,
      "max_height": null,
      "max_width": null,
      "min_height": null,
      "min_width": null,
      "object_fit": null,
      "object_position": null,
      "order": null,
      "overflow": null,
      "overflow_x": null,
      "overflow_y": null,
      "padding": null,
      "right": null,
      "top": null,
      "visibility": null,
      "width": null
     }
    },
    "f55354a90b2a468ea9832b48b3ccb68e": {
     "model_module": "@jupyter-widgets/controls",
     "model_name": "DescriptionStyleModel",
     "model_module_version": "1.5.0",
     "state": {
      "_model_module": "@jupyter-widgets/controls",
      "_model_module_version": "1.5.0",
      "_model_name": "DescriptionStyleModel",
      "_view_count": null,
      "_view_module": "@jupyter-widgets/base",
      "_view_module_version": "1.2.0",
      "_view_name": "StyleView",
      "description_width": ""
     }
    },
    "da0edc4293c7478d86e12f0aef4b92cf": {
     "model_module": "@jupyter-widgets/base",
     "model_name": "LayoutModel",
     "model_module_version": "1.2.0",
     "state": {
      "_model_module": "@jupyter-widgets/base",
      "_model_module_version": "1.2.0",
      "_model_name": "LayoutModel",
      "_view_count": null,
      "_view_module": "@jupyter-widgets/base",
      "_view_module_version": "1.2.0",
      "_view_name": "LayoutView",
      "align_content": null,
      "align_items": null,
      "align_self": null,
      "border": null,
      "bottom": null,
      "display": null,
      "flex": null,
      "flex_flow": null,
      "grid_area": null,
      "grid_auto_columns": null,
      "grid_auto_flow": null,
      "grid_auto_rows": null,
      "grid_column": null,
      "grid_gap": null,
      "grid_row": null,
      "grid_template_areas": null,
      "grid_template_columns": null,
      "grid_template_rows": null,
      "height": null,
      "justify_content": null,
      "justify_items": null,
      "left": null,
      "margin": null,
      "max_height": null,
      "max_width": null,
      "min_height": null,
      "min_width": null,
      "object_fit": null,
      "object_position": null,
      "order": null,
      "overflow": null,
      "overflow_x": null,
      "overflow_y": null,
      "padding": null,
      "right": null,
      "top": null,
      "visibility": null,
      "width": null
     }
    },
    "76bef4e7608e4da89d86b1b8476efac0": {
     "model_module": "@jupyter-widgets/controls",
     "model_name": "ProgressStyleModel",
     "model_module_version": "1.5.0",
     "state": {
      "_model_module": "@jupyter-widgets/controls",
      "_model_module_version": "1.5.0",
      "_model_name": "ProgressStyleModel",
      "_view_count": null,
      "_view_module": "@jupyter-widgets/base",
      "_view_module_version": "1.2.0",
      "_view_name": "StyleView",
      "bar_color": null,
      "description_width": ""
     }
    },
    "99b9cbb240984de5851ed14ae5811a5e": {
     "model_module": "@jupyter-widgets/base",
     "model_name": "LayoutModel",
     "model_module_version": "1.2.0",
     "state": {
      "_model_module": "@jupyter-widgets/base",
      "_model_module_version": "1.2.0",
      "_model_name": "LayoutModel",
      "_view_count": null,
      "_view_module": "@jupyter-widgets/base",
      "_view_module_version": "1.2.0",
      "_view_name": "LayoutView",
      "align_content": null,
      "align_items": null,
      "align_self": null,
      "border": null,
      "bottom": null,
      "display": null,
      "flex": null,
      "flex_flow": null,
      "grid_area": null,
      "grid_auto_columns": null,
      "grid_auto_flow": null,
      "grid_auto_rows": null,
      "grid_column": null,
      "grid_gap": null,
      "grid_row": null,
      "grid_template_areas": null,
      "grid_template_columns": null,
      "grid_template_rows": null,
      "height": null,
      "justify_content": null,
      "justify_items": null,
      "left": null,
      "margin": null,
      "max_height": null,
      "max_width": null,
      "min_height": null,
      "min_width": null,
      "object_fit": null,
      "object_position": null,
      "order": null,
      "overflow": null,
      "overflow_x": null,
      "overflow_y": null,
      "padding": null,
      "right": null,
      "top": null,
      "visibility": null,
      "width": null
     }
    },
    "e5c7e72a9d5c4f98b445ec797e04ae9e": {
     "model_module": "@jupyter-widgets/controls",
     "model_name": "DescriptionStyleModel",
     "model_module_version": "1.5.0",
     "state": {
      "_model_module": "@jupyter-widgets/controls",
      "_model_module_version": "1.5.0",
      "_model_name": "DescriptionStyleModel",
      "_view_count": null,
      "_view_module": "@jupyter-widgets/base",
      "_view_module_version": "1.2.0",
      "_view_name": "StyleView",
      "description_width": ""
     }
    },
    "c7e3d75277a5484a8234f0aa0b71004f": {
     "model_module": "@jupyter-widgets/controls",
     "model_name": "HBoxModel",
     "model_module_version": "1.5.0",
     "state": {
      "_dom_classes": [],
      "_model_module": "@jupyter-widgets/controls",
      "_model_module_version": "1.5.0",
      "_model_name": "HBoxModel",
      "_view_count": null,
      "_view_module": "@jupyter-widgets/controls",
      "_view_module_version": "1.5.0",
      "_view_name": "HBoxView",
      "box_style": "",
      "children": [
       "IPY_MODEL_94b01d4ceb4b4394b72c6423ce85fe6f",
       "IPY_MODEL_ee0cb21aa5ae4d15a369946bc0a13c50",
       "IPY_MODEL_5c2a8161d26946ebba400250c60f1337"
      ],
      "layout": "IPY_MODEL_7cd0de587ae542449e839ee37184a462"
     }
    },
    "94b01d4ceb4b4394b72c6423ce85fe6f": {
     "model_module": "@jupyter-widgets/controls",
     "model_name": "HTMLModel",
     "model_module_version": "1.5.0",
     "state": {
      "_dom_classes": [],
      "_model_module": "@jupyter-widgets/controls",
      "_model_module_version": "1.5.0",
      "_model_name": "HTMLModel",
      "_view_count": null,
      "_view_module": "@jupyter-widgets/controls",
      "_view_module_version": "1.5.0",
      "_view_name": "HTMLView",
      "description": "",
      "description_tooltip": null,
      "layout": "IPY_MODEL_200de99591c341a4b4fd1eefa6be7395",
      "placeholder": "​",
      "style": "IPY_MODEL_6ed8094de9c44eac9ccd34b9d7513369",
      "value": "tokenizer_config.json: 100%"
     }
    },
    "ee0cb21aa5ae4d15a369946bc0a13c50": {
     "model_module": "@jupyter-widgets/controls",
     "model_name": "FloatProgressModel",
     "model_module_version": "1.5.0",
     "state": {
      "_dom_classes": [],
      "_model_module": "@jupyter-widgets/controls",
      "_model_module_version": "1.5.0",
      "_model_name": "FloatProgressModel",
      "_view_count": null,
      "_view_module": "@jupyter-widgets/controls",
      "_view_module_version": "1.5.0",
      "_view_name": "ProgressView",
      "bar_style": "success",
      "description": "",
      "description_tooltip": null,
      "layout": "IPY_MODEL_1280d7698683464aafa606409ec6354b",
      "max": 1630,
      "min": 0,
      "orientation": "horizontal",
      "style": "IPY_MODEL_ce3aee37c2d346c2ad0e7a9cc84c6e7e",
      "value": 1630
     }
    },
    "5c2a8161d26946ebba400250c60f1337": {
     "model_module": "@jupyter-widgets/controls",
     "model_name": "HTMLModel",
     "model_module_version": "1.5.0",
     "state": {
      "_dom_classes": [],
      "_model_module": "@jupyter-widgets/controls",
      "_model_module_version": "1.5.0",
      "_model_name": "HTMLModel",
      "_view_count": null,
      "_view_module": "@jupyter-widgets/controls",
      "_view_module_version": "1.5.0",
      "_view_name": "HTMLView",
      "description": "",
      "description_tooltip": null,
      "layout": "IPY_MODEL_28a81b667de64adfbdab08a9adfb6f1b",
      "placeholder": "​",
      "style": "IPY_MODEL_e1873e19d5bc475dbf398ae7414a2cb6",
      "value": " 1.63k/1.63k [00:00&lt;00:00, 81.1kB/s]"
     }
    },
    "7cd0de587ae542449e839ee37184a462": {
     "model_module": "@jupyter-widgets/base",
     "model_name": "LayoutModel",
     "model_module_version": "1.2.0",
     "state": {
      "_model_module": "@jupyter-widgets/base",
      "_model_module_version": "1.2.0",
      "_model_name": "LayoutModel",
      "_view_count": null,
      "_view_module": "@jupyter-widgets/base",
      "_view_module_version": "1.2.0",
      "_view_name": "LayoutView",
      "align_content": null,
      "align_items": null,
      "align_self": null,
      "border": null,
      "bottom": null,
      "display": null,
      "flex": null,
      "flex_flow": null,
      "grid_area": null,
      "grid_auto_columns": null,
      "grid_auto_flow": null,
      "grid_auto_rows": null,
      "grid_column": null,
      "grid_gap": null,
      "grid_row": null,
      "grid_template_areas": null,
      "grid_template_columns": null,
      "grid_template_rows": null,
      "height": null,
      "justify_content": null,
      "justify_items": null,
      "left": null,
      "margin": null,
      "max_height": null,
      "max_width": null,
      "min_height": null,
      "min_width": null,
      "object_fit": null,
      "object_position": null,
      "order": null,
      "overflow": null,
      "overflow_x": null,
      "overflow_y": null,
      "padding": null,
      "right": null,
      "top": null,
      "visibility": null,
      "width": null
     }
    },
    "200de99591c341a4b4fd1eefa6be7395": {
     "model_module": "@jupyter-widgets/base",
     "model_name": "LayoutModel",
     "model_module_version": "1.2.0",
     "state": {
      "_model_module": "@jupyter-widgets/base",
      "_model_module_version": "1.2.0",
      "_model_name": "LayoutModel",
      "_view_count": null,
      "_view_module": "@jupyter-widgets/base",
      "_view_module_version": "1.2.0",
      "_view_name": "LayoutView",
      "align_content": null,
      "align_items": null,
      "align_self": null,
      "border": null,
      "bottom": null,
      "display": null,
      "flex": null,
      "flex_flow": null,
      "grid_area": null,
      "grid_auto_columns": null,
      "grid_auto_flow": null,
      "grid_auto_rows": null,
      "grid_column": null,
      "grid_gap": null,
      "grid_row": null,
      "grid_template_areas": null,
      "grid_template_columns": null,
      "grid_template_rows": null,
      "height": null,
      "justify_content": null,
      "justify_items": null,
      "left": null,
      "margin": null,
      "max_height": null,
      "max_width": null,
      "min_height": null,
      "min_width": null,
      "object_fit": null,
      "object_position": null,
      "order": null,
      "overflow": null,
      "overflow_x": null,
      "overflow_y": null,
      "padding": null,
      "right": null,
      "top": null,
      "visibility": null,
      "width": null
     }
    },
    "6ed8094de9c44eac9ccd34b9d7513369": {
     "model_module": "@jupyter-widgets/controls",
     "model_name": "DescriptionStyleModel",
     "model_module_version": "1.5.0",
     "state": {
      "_model_module": "@jupyter-widgets/controls",
      "_model_module_version": "1.5.0",
      "_model_name": "DescriptionStyleModel",
      "_view_count": null,
      "_view_module": "@jupyter-widgets/base",
      "_view_module_version": "1.2.0",
      "_view_name": "StyleView",
      "description_width": ""
     }
    },
    "1280d7698683464aafa606409ec6354b": {
     "model_module": "@jupyter-widgets/base",
     "model_name": "LayoutModel",
     "model_module_version": "1.2.0",
     "state": {
      "_model_module": "@jupyter-widgets/base",
      "_model_module_version": "1.2.0",
      "_model_name": "LayoutModel",
      "_view_count": null,
      "_view_module": "@jupyter-widgets/base",
      "_view_module_version": "1.2.0",
      "_view_name": "LayoutView",
      "align_content": null,
      "align_items": null,
      "align_self": null,
      "border": null,
      "bottom": null,
      "display": null,
      "flex": null,
      "flex_flow": null,
      "grid_area": null,
      "grid_auto_columns": null,
      "grid_auto_flow": null,
      "grid_auto_rows": null,
      "grid_column": null,
      "grid_gap": null,
      "grid_row": null,
      "grid_template_areas": null,
      "grid_template_columns": null,
      "grid_template_rows": null,
      "height": null,
      "justify_content": null,
      "justify_items": null,
      "left": null,
      "margin": null,
      "max_height": null,
      "max_width": null,
      "min_height": null,
      "min_width": null,
      "object_fit": null,
      "object_position": null,
      "order": null,
      "overflow": null,
      "overflow_x": null,
      "overflow_y": null,
      "padding": null,
      "right": null,
      "top": null,
      "visibility": null,
      "width": null
     }
    },
    "ce3aee37c2d346c2ad0e7a9cc84c6e7e": {
     "model_module": "@jupyter-widgets/controls",
     "model_name": "ProgressStyleModel",
     "model_module_version": "1.5.0",
     "state": {
      "_model_module": "@jupyter-widgets/controls",
      "_model_module_version": "1.5.0",
      "_model_name": "ProgressStyleModel",
      "_view_count": null,
      "_view_module": "@jupyter-widgets/base",
      "_view_module_version": "1.2.0",
      "_view_name": "StyleView",
      "bar_color": null,
      "description_width": ""
     }
    },
    "28a81b667de64adfbdab08a9adfb6f1b": {
     "model_module": "@jupyter-widgets/base",
     "model_name": "LayoutModel",
     "model_module_version": "1.2.0",
     "state": {
      "_model_module": "@jupyter-widgets/base",
      "_model_module_version": "1.2.0",
      "_model_name": "LayoutModel",
      "_view_count": null,
      "_view_module": "@jupyter-widgets/base",
      "_view_module_version": "1.2.0",
      "_view_name": "LayoutView",
      "align_content": null,
      "align_items": null,
      "align_self": null,
      "border": null,
      "bottom": null,
      "display": null,
      "flex": null,
      "flex_flow": null,
      "grid_area": null,
      "grid_auto_columns": null,
      "grid_auto_flow": null,
      "grid_auto_rows": null,
      "grid_column": null,
      "grid_gap": null,
      "grid_row": null,
      "grid_template_areas": null,
      "grid_template_columns": null,
      "grid_template_rows": null,
      "height": null,
      "justify_content": null,
      "justify_items": null,
      "left": null,
      "margin": null,
      "max_height": null,
      "max_width": null,
      "min_height": null,
      "min_width": null,
      "object_fit": null,
      "object_position": null,
      "order": null,
      "overflow": null,
      "overflow_x": null,
      "overflow_y": null,
      "padding": null,
      "right": null,
      "top": null,
      "visibility": null,
      "width": null
     }
    },
    "e1873e19d5bc475dbf398ae7414a2cb6": {
     "model_module": "@jupyter-widgets/controls",
     "model_name": "DescriptionStyleModel",
     "model_module_version": "1.5.0",
     "state": {
      "_model_module": "@jupyter-widgets/controls",
      "_model_module_version": "1.5.0",
      "_model_name": "DescriptionStyleModel",
      "_view_count": null,
      "_view_module": "@jupyter-widgets/base",
      "_view_module_version": "1.2.0",
      "_view_name": "StyleView",
      "description_width": ""
     }
    },
    "718dc6ae585743edae0075995dce4188": {
     "model_module": "@jupyter-widgets/controls",
     "model_name": "HBoxModel",
     "model_module_version": "1.5.0",
     "state": {
      "_dom_classes": [],
      "_model_module": "@jupyter-widgets/controls",
      "_model_module_version": "1.5.0",
      "_model_name": "HBoxModel",
      "_view_count": null,
      "_view_module": "@jupyter-widgets/controls",
      "_view_module_version": "1.5.0",
      "_view_name": "HBoxView",
      "box_style": "",
      "children": [
       "IPY_MODEL_c567b96950a947ec9bc1794d72c8c8cb",
       "IPY_MODEL_faeefd1f3ac541dd8089d2b1039d49b8",
       "IPY_MODEL_c3cf077011a34ff2bb9aec577a8872ba"
      ],
      "layout": "IPY_MODEL_14f1f334810b4edeb3fa37103a51c8f5"
     }
    },
    "c567b96950a947ec9bc1794d72c8c8cb": {
     "model_module": "@jupyter-widgets/controls",
     "model_name": "HTMLModel",
     "model_module_version": "1.5.0",
     "state": {
      "_dom_classes": [],
      "_model_module": "@jupyter-widgets/controls",
      "_model_module_version": "1.5.0",
      "_model_name": "HTMLModel",
      "_view_count": null,
      "_view_module": "@jupyter-widgets/controls",
      "_view_module_version": "1.5.0",
      "_view_name": "HTMLView",
      "description": "",
      "description_tooltip": null,
      "layout": "IPY_MODEL_a18fda69b3d646609e24f34752bbc18c",
      "placeholder": "​",
      "style": "IPY_MODEL_60413b43f178410fb123cd5deee8c402",
      "value": "tokenizer.model: 100%"
     }
    },
    "faeefd1f3ac541dd8089d2b1039d49b8": {
     "model_module": "@jupyter-widgets/controls",
     "model_name": "FloatProgressModel",
     "model_module_version": "1.5.0",
     "state": {
      "_dom_classes": [],
      "_model_module": "@jupyter-widgets/controls",
      "_model_module_version": "1.5.0",
      "_model_name": "FloatProgressModel",
      "_view_count": null,
      "_view_module": "@jupyter-widgets/controls",
      "_view_module_version": "1.5.0",
      "_view_name": "ProgressView",
      "bar_style": "success",
      "description": "",
      "description_tooltip": null,
      "layout": "IPY_MODEL_850f349f852844e5940695c3ac034165",
      "max": 493443,
      "min": 0,
      "orientation": "horizontal",
      "style": "IPY_MODEL_bced94d1c4504c109c8469359fbd9003",
      "value": 493443
     }
    },
    "c3cf077011a34ff2bb9aec577a8872ba": {
     "model_module": "@jupyter-widgets/controls",
     "model_name": "HTMLModel",
     "model_module_version": "1.5.0",
     "state": {
      "_dom_classes": [],
      "_model_module": "@jupyter-widgets/controls",
      "_model_module_version": "1.5.0",
      "_model_name": "HTMLModel",
      "_view_count": null,
      "_view_module": "@jupyter-widgets/controls",
      "_view_module_version": "1.5.0",
      "_view_name": "HTMLView",
      "description": "",
      "description_tooltip": null,
      "layout": "IPY_MODEL_84f22833f9f34a93b75c44bd083c231d",
      "placeholder": "​",
      "style": "IPY_MODEL_111073968de44797ad62a231fb4e0f9b",
      "value": " 493k/493k [00:00&lt;00:00, 2.30MB/s]"
     }
    },
    "14f1f334810b4edeb3fa37103a51c8f5": {
     "model_module": "@jupyter-widgets/base",
     "model_name": "LayoutModel",
     "model_module_version": "1.2.0",
     "state": {
      "_model_module": "@jupyter-widgets/base",
      "_model_module_version": "1.2.0",
      "_model_name": "LayoutModel",
      "_view_count": null,
      "_view_module": "@jupyter-widgets/base",
      "_view_module_version": "1.2.0",
      "_view_name": "LayoutView",
      "align_content": null,
      "align_items": null,
      "align_self": null,
      "border": null,
      "bottom": null,
      "display": null,
      "flex": null,
      "flex_flow": null,
      "grid_area": null,
      "grid_auto_columns": null,
      "grid_auto_flow": null,
      "grid_auto_rows": null,
      "grid_column": null,
      "grid_gap": null,
      "grid_row": null,
      "grid_template_areas": null,
      "grid_template_columns": null,
      "grid_template_rows": null,
      "height": null,
      "justify_content": null,
      "justify_items": null,
      "left": null,
      "margin": null,
      "max_height": null,
      "max_width": null,
      "min_height": null,
      "min_width": null,
      "object_fit": null,
      "object_position": null,
      "order": null,
      "overflow": null,
      "overflow_x": null,
      "overflow_y": null,
      "padding": null,
      "right": null,
      "top": null,
      "visibility": null,
      "width": null
     }
    },
    "a18fda69b3d646609e24f34752bbc18c": {
     "model_module": "@jupyter-widgets/base",
     "model_name": "LayoutModel",
     "model_module_version": "1.2.0",
     "state": {
      "_model_module": "@jupyter-widgets/base",
      "_model_module_version": "1.2.0",
      "_model_name": "LayoutModel",
      "_view_count": null,
      "_view_module": "@jupyter-widgets/base",
      "_view_module_version": "1.2.0",
      "_view_name": "LayoutView",
      "align_content": null,
      "align_items": null,
      "align_self": null,
      "border": null,
      "bottom": null,
      "display": null,
      "flex": null,
      "flex_flow": null,
      "grid_area": null,
      "grid_auto_columns": null,
      "grid_auto_flow": null,
      "grid_auto_rows": null,
      "grid_column": null,
      "grid_gap": null,
      "grid_row": null,
      "grid_template_areas": null,
      "grid_template_columns": null,
      "grid_template_rows": null,
      "height": null,
      "justify_content": null,
      "justify_items": null,
      "left": null,
      "margin": null,
      "max_height": null,
      "max_width": null,
      "min_height": null,
      "min_width": null,
      "object_fit": null,
      "object_position": null,
      "order": null,
      "overflow": null,
      "overflow_x": null,
      "overflow_y": null,
      "padding": null,
      "right": null,
      "top": null,
      "visibility": null,
      "width": null
     }
    },
    "60413b43f178410fb123cd5deee8c402": {
     "model_module": "@jupyter-widgets/controls",
     "model_name": "DescriptionStyleModel",
     "model_module_version": "1.5.0",
     "state": {
      "_model_module": "@jupyter-widgets/controls",
      "_model_module_version": "1.5.0",
      "_model_name": "DescriptionStyleModel",
      "_view_count": null,
      "_view_module": "@jupyter-widgets/base",
      "_view_module_version": "1.2.0",
      "_view_name": "StyleView",
      "description_width": ""
     }
    },
    "850f349f852844e5940695c3ac034165": {
     "model_module": "@jupyter-widgets/base",
     "model_name": "LayoutModel",
     "model_module_version": "1.2.0",
     "state": {
      "_model_module": "@jupyter-widgets/base",
      "_model_module_version": "1.2.0",
      "_model_name": "LayoutModel",
      "_view_count": null,
      "_view_module": "@jupyter-widgets/base",
      "_view_module_version": "1.2.0",
      "_view_name": "LayoutView",
      "align_content": null,
      "align_items": null,
      "align_self": null,
      "border": null,
      "bottom": null,
      "display": null,
      "flex": null,
      "flex_flow": null,
      "grid_area": null,
      "grid_auto_columns": null,
      "grid_auto_flow": null,
      "grid_auto_rows": null,
      "grid_column": null,
      "grid_gap": null,
      "grid_row": null,
      "grid_template_areas": null,
      "grid_template_columns": null,
      "grid_template_rows": null,
      "height": null,
      "justify_content": null,
      "justify_items": null,
      "left": null,
      "margin": null,
      "max_height": null,
      "max_width": null,
      "min_height": null,
      "min_width": null,
      "object_fit": null,
      "object_position": null,
      "order": null,
      "overflow": null,
      "overflow_x": null,
      "overflow_y": null,
      "padding": null,
      "right": null,
      "top": null,
      "visibility": null,
      "width": null
     }
    },
    "bced94d1c4504c109c8469359fbd9003": {
     "model_module": "@jupyter-widgets/controls",
     "model_name": "ProgressStyleModel",
     "model_module_version": "1.5.0",
     "state": {
      "_model_module": "@jupyter-widgets/controls",
      "_model_module_version": "1.5.0",
      "_model_name": "ProgressStyleModel",
      "_view_count": null,
      "_view_module": "@jupyter-widgets/base",
      "_view_module_version": "1.2.0",
      "_view_name": "StyleView",
      "bar_color": null,
      "description_width": ""
     }
    },
    "84f22833f9f34a93b75c44bd083c231d": {
     "model_module": "@jupyter-widgets/base",
     "model_name": "LayoutModel",
     "model_module_version": "1.2.0",
     "state": {
      "_model_module": "@jupyter-widgets/base",
      "_model_module_version": "1.2.0",
      "_model_name": "LayoutModel",
      "_view_count": null,
      "_view_module": "@jupyter-widgets/base",
      "_view_module_version": "1.2.0",
      "_view_name": "LayoutView",
      "align_content": null,
      "align_items": null,
      "align_self": null,
      "border": null,
      "bottom": null,
      "display": null,
      "flex": null,
      "flex_flow": null,
      "grid_area": null,
      "grid_auto_columns": null,
      "grid_auto_flow": null,
      "grid_auto_rows": null,
      "grid_column": null,
      "grid_gap": null,
      "grid_row": null,
      "grid_template_areas": null,
      "grid_template_columns": null,
      "grid_template_rows": null,
      "height": null,
      "justify_content": null,
      "justify_items": null,
      "left": null,
      "margin": null,
      "max_height": null,
      "max_width": null,
      "min_height": null,
      "min_width": null,
      "object_fit": null,
      "object_position": null,
      "order": null,
      "overflow": null,
      "overflow_x": null,
      "overflow_y": null,
      "padding": null,
      "right": null,
      "top": null,
      "visibility": null,
      "width": null
     }
    },
    "111073968de44797ad62a231fb4e0f9b": {
     "model_module": "@jupyter-widgets/controls",
     "model_name": "DescriptionStyleModel",
     "model_module_version": "1.5.0",
     "state": {
      "_model_module": "@jupyter-widgets/controls",
      "_model_module_version": "1.5.0",
      "_model_name": "DescriptionStyleModel",
      "_view_count": null,
      "_view_module": "@jupyter-widgets/base",
      "_view_module_version": "1.2.0",
      "_view_name": "StyleView",
      "description_width": ""
     }
    },
    "18854d61237b424ebbf099001008182e": {
     "model_module": "@jupyter-widgets/controls",
     "model_name": "HBoxModel",
     "model_module_version": "1.5.0",
     "state": {
      "_dom_classes": [],
      "_model_module": "@jupyter-widgets/controls",
      "_model_module_version": "1.5.0",
      "_model_name": "HBoxModel",
      "_view_count": null,
      "_view_module": "@jupyter-widgets/controls",
      "_view_module_version": "1.5.0",
      "_view_name": "HBoxView",
      "box_style": "",
      "children": [
       "IPY_MODEL_fc8b16e294b343688c7f5560b1b130a1",
       "IPY_MODEL_56629b6b0711485bb1a62aa5fb81edbe",
       "IPY_MODEL_f812ddc3ef154b38b4ce1883c9720cc3"
      ],
      "layout": "IPY_MODEL_03d2ed0492154981b8192e44bf27d4c9"
     }
    },
    "fc8b16e294b343688c7f5560b1b130a1": {
     "model_module": "@jupyter-widgets/controls",
     "model_name": "HTMLModel",
     "model_module_version": "1.5.0",
     "state": {
      "_dom_classes": [],
      "_model_module": "@jupyter-widgets/controls",
      "_model_module_version": "1.5.0",
      "_model_name": "HTMLModel",
      "_view_count": null,
      "_view_module": "@jupyter-widgets/controls",
      "_view_module_version": "1.5.0",
      "_view_name": "HTMLView",
      "description": "",
      "description_tooltip": null,
      "layout": "IPY_MODEL_f4aa9c27ba8e415383c2e42f58272667",
      "placeholder": "​",
      "style": "IPY_MODEL_c2dbd4095ad345fcb5b326af586d174d",
      "value": "added_tokens.json: 100%"
     }
    },
    "56629b6b0711485bb1a62aa5fb81edbe": {
     "model_module": "@jupyter-widgets/controls",
     "model_name": "FloatProgressModel",
     "model_module_version": "1.5.0",
     "state": {
      "_dom_classes": [],
      "_model_module": "@jupyter-widgets/controls",
      "_model_module_version": "1.5.0",
      "_model_name": "FloatProgressModel",
      "_view_count": null,
      "_view_module": "@jupyter-widgets/controls",
      "_view_module_version": "1.5.0",
      "_view_name": "ProgressView",
      "bar_style": "success",
      "description": "",
      "description_tooltip": null,
      "layout": "IPY_MODEL_fb9787037d4845908604d43dbe71de79",
      "max": 51,
      "min": 0,
      "orientation": "horizontal",
      "style": "IPY_MODEL_c76d488148a9485bad93ec8eed3d79e3",
      "value": 51
     }
    },
    "f812ddc3ef154b38b4ce1883c9720cc3": {
     "model_module": "@jupyter-widgets/controls",
     "model_name": "HTMLModel",
     "model_module_version": "1.5.0",
     "state": {
      "_dom_classes": [],
      "_model_module": "@jupyter-widgets/controls",
      "_model_module_version": "1.5.0",
      "_model_name": "HTMLModel",
      "_view_count": null,
      "_view_module": "@jupyter-widgets/controls",
      "_view_module_version": "1.5.0",
      "_view_name": "HTMLView",
      "description": "",
      "description_tooltip": null,
      "layout": "IPY_MODEL_f0cd718a256547afa22571010a76c653",
      "placeholder": "​",
      "style": "IPY_MODEL_2b50a0a5f3af4c5997398bc4a35483a4",
      "value": " 51.0/51.0 [00:00&lt;00:00, 2.58kB/s]"
     }
    },
    "03d2ed0492154981b8192e44bf27d4c9": {
     "model_module": "@jupyter-widgets/base",
     "model_name": "LayoutModel",
     "model_module_version": "1.2.0",
     "state": {
      "_model_module": "@jupyter-widgets/base",
      "_model_module_version": "1.2.0",
      "_model_name": "LayoutModel",
      "_view_count": null,
      "_view_module": "@jupyter-widgets/base",
      "_view_module_version": "1.2.0",
      "_view_name": "LayoutView",
      "align_content": null,
      "align_items": null,
      "align_self": null,
      "border": null,
      "bottom": null,
      "display": null,
      "flex": null,
      "flex_flow": null,
      "grid_area": null,
      "grid_auto_columns": null,
      "grid_auto_flow": null,
      "grid_auto_rows": null,
      "grid_column": null,
      "grid_gap": null,
      "grid_row": null,
      "grid_template_areas": null,
      "grid_template_columns": null,
      "grid_template_rows": null,
      "height": null,
      "justify_content": null,
      "justify_items": null,
      "left": null,
      "margin": null,
      "max_height": null,
      "max_width": null,
      "min_height": null,
      "min_width": null,
      "object_fit": null,
      "object_position": null,
      "order": null,
      "overflow": null,
      "overflow_x": null,
      "overflow_y": null,
      "padding": null,
      "right": null,
      "top": null,
      "visibility": null,
      "width": null
     }
    },
    "f4aa9c27ba8e415383c2e42f58272667": {
     "model_module": "@jupyter-widgets/base",
     "model_name": "LayoutModel",
     "model_module_version": "1.2.0",
     "state": {
      "_model_module": "@jupyter-widgets/base",
      "_model_module_version": "1.2.0",
      "_model_name": "LayoutModel",
      "_view_count": null,
      "_view_module": "@jupyter-widgets/base",
      "_view_module_version": "1.2.0",
      "_view_name": "LayoutView",
      "align_content": null,
      "align_items": null,
      "align_self": null,
      "border": null,
      "bottom": null,
      "display": null,
      "flex": null,
      "flex_flow": null,
      "grid_area": null,
      "grid_auto_columns": null,
      "grid_auto_flow": null,
      "grid_auto_rows": null,
      "grid_column": null,
      "grid_gap": null,
      "grid_row": null,
      "grid_template_areas": null,
      "grid_template_columns": null,
      "grid_template_rows": null,
      "height": null,
      "justify_content": null,
      "justify_items": null,
      "left": null,
      "margin": null,
      "max_height": null,
      "max_width": null,
      "min_height": null,
      "min_width": null,
      "object_fit": null,
      "object_position": null,
      "order": null,
      "overflow": null,
      "overflow_x": null,
      "overflow_y": null,
      "padding": null,
      "right": null,
      "top": null,
      "visibility": null,
      "width": null
     }
    },
    "c2dbd4095ad345fcb5b326af586d174d": {
     "model_module": "@jupyter-widgets/controls",
     "model_name": "DescriptionStyleModel",
     "model_module_version": "1.5.0",
     "state": {
      "_model_module": "@jupyter-widgets/controls",
      "_model_module_version": "1.5.0",
      "_model_name": "DescriptionStyleModel",
      "_view_count": null,
      "_view_module": "@jupyter-widgets/base",
      "_view_module_version": "1.2.0",
      "_view_name": "StyleView",
      "description_width": ""
     }
    },
    "fb9787037d4845908604d43dbe71de79": {
     "model_module": "@jupyter-widgets/base",
     "model_name": "LayoutModel",
     "model_module_version": "1.2.0",
     "state": {
      "_model_module": "@jupyter-widgets/base",
      "_model_module_version": "1.2.0",
      "_model_name": "LayoutModel",
      "_view_count": null,
      "_view_module": "@jupyter-widgets/base",
      "_view_module_version": "1.2.0",
      "_view_name": "LayoutView",
      "align_content": null,
      "align_items": null,
      "align_self": null,
      "border": null,
      "bottom": null,
      "display": null,
      "flex": null,
      "flex_flow": null,
      "grid_area": null,
      "grid_auto_columns": null,
      "grid_auto_flow": null,
      "grid_auto_rows": null,
      "grid_column": null,
      "grid_gap": null,
      "grid_row": null,
      "grid_template_areas": null,
      "grid_template_columns": null,
      "grid_template_rows": null,
      "height": null,
      "justify_content": null,
      "justify_items": null,
      "left": null,
      "margin": null,
      "max_height": null,
      "max_width": null,
      "min_height": null,
      "min_width": null,
      "object_fit": null,
      "object_position": null,
      "order": null,
      "overflow": null,
      "overflow_x": null,
      "overflow_y": null,
      "padding": null,
      "right": null,
      "top": null,
      "visibility": null,
      "width": null
     }
    },
    "c76d488148a9485bad93ec8eed3d79e3": {
     "model_module": "@jupyter-widgets/controls",
     "model_name": "ProgressStyleModel",
     "model_module_version": "1.5.0",
     "state": {
      "_model_module": "@jupyter-widgets/controls",
      "_model_module_version": "1.5.0",
      "_model_name": "ProgressStyleModel",
      "_view_count": null,
      "_view_module": "@jupyter-widgets/base",
      "_view_module_version": "1.2.0",
      "_view_name": "StyleView",
      "bar_color": null,
      "description_width": ""
     }
    },
    "f0cd718a256547afa22571010a76c653": {
     "model_module": "@jupyter-widgets/base",
     "model_name": "LayoutModel",
     "model_module_version": "1.2.0",
     "state": {
      "_model_module": "@jupyter-widgets/base",
      "_model_module_version": "1.2.0",
      "_model_name": "LayoutModel",
      "_view_count": null,
      "_view_module": "@jupyter-widgets/base",
      "_view_module_version": "1.2.0",
      "_view_name": "LayoutView",
      "align_content": null,
      "align_items": null,
      "align_self": null,
      "border": null,
      "bottom": null,
      "display": null,
      "flex": null,
      "flex_flow": null,
      "grid_area": null,
      "grid_auto_columns": null,
      "grid_auto_flow": null,
      "grid_auto_rows": null,
      "grid_column": null,
      "grid_gap": null,
      "grid_row": null,
      "grid_template_areas": null,
      "grid_template_columns": null,
      "grid_template_rows": null,
      "height": null,
      "justify_content": null,
      "justify_items": null,
      "left": null,
      "margin": null,
      "max_height": null,
      "max_width": null,
      "min_height": null,
      "min_width": null,
      "object_fit": null,
      "object_position": null,
      "order": null,
      "overflow": null,
      "overflow_x": null,
      "overflow_y": null,
      "padding": null,
      "right": null,
      "top": null,
      "visibility": null,
      "width": null
     }
    },
    "2b50a0a5f3af4c5997398bc4a35483a4": {
     "model_module": "@jupyter-widgets/controls",
     "model_name": "DescriptionStyleModel",
     "model_module_version": "1.5.0",
     "state": {
      "_model_module": "@jupyter-widgets/controls",
      "_model_module_version": "1.5.0",
      "_model_name": "DescriptionStyleModel",
      "_view_count": null,
      "_view_module": "@jupyter-widgets/base",
      "_view_module_version": "1.2.0",
      "_view_name": "StyleView",
      "description_width": ""
     }
    },
    "1c6d70d1991741349b6b05a482d5468e": {
     "model_module": "@jupyter-widgets/controls",
     "model_name": "HBoxModel",
     "model_module_version": "1.5.0",
     "state": {
      "_dom_classes": [],
      "_model_module": "@jupyter-widgets/controls",
      "_model_module_version": "1.5.0",
      "_model_name": "HBoxModel",
      "_view_count": null,
      "_view_module": "@jupyter-widgets/controls",
      "_view_module_version": "1.5.0",
      "_view_name": "HBoxView",
      "box_style": "",
      "children": [
       "IPY_MODEL_fcd96fb9be184260b73a7ca88319589e",
       "IPY_MODEL_1cbfb69c152b474e9a1e981de97e3378",
       "IPY_MODEL_38d2790edda94cf191d178964ffc805f"
      ],
      "layout": "IPY_MODEL_3cb39ca94dc048a7aa38c90d6448951f"
     }
    },
    "fcd96fb9be184260b73a7ca88319589e": {
     "model_module": "@jupyter-widgets/controls",
     "model_name": "HTMLModel",
     "model_module_version": "1.5.0",
     "state": {
      "_dom_classes": [],
      "_model_module": "@jupyter-widgets/controls",
      "_model_module_version": "1.5.0",
      "_model_name": "HTMLModel",
      "_view_count": null,
      "_view_module": "@jupyter-widgets/controls",
      "_view_module_version": "1.5.0",
      "_view_name": "HTMLView",
      "description": "",
      "description_tooltip": null,
      "layout": "IPY_MODEL_08230c86caf24d2d998a47cdec571c5d",
      "placeholder": "​",
      "style": "IPY_MODEL_2c4b8cabb45f465ba7362eab512c5b7b",
      "value": "special_tokens_map.json: 100%"
     }
    },
    "1cbfb69c152b474e9a1e981de97e3378": {
     "model_module": "@jupyter-widgets/controls",
     "model_name": "FloatProgressModel",
     "model_module_version": "1.5.0",
     "state": {
      "_dom_classes": [],
      "_model_module": "@jupyter-widgets/controls",
      "_model_module_version": "1.5.0",
      "_model_name": "FloatProgressModel",
      "_view_count": null,
      "_view_module": "@jupyter-widgets/controls",
      "_view_module_version": "1.5.0",
      "_view_name": "ProgressView",
      "bar_style": "success",
      "description": "",
      "description_tooltip": null,
      "layout": "IPY_MODEL_1068cc0cf3ea46378e00335d29ddeb3e",
      "max": 444,
      "min": 0,
      "orientation": "horizontal",
      "style": "IPY_MODEL_e99e12b8fbed46e6a564add07aa6b2fa",
      "value": 444
     }
    },
    "38d2790edda94cf191d178964ffc805f": {
     "model_module": "@jupyter-widgets/controls",
     "model_name": "HTMLModel",
     "model_module_version": "1.5.0",
     "state": {
      "_dom_classes": [],
      "_model_module": "@jupyter-widgets/controls",
      "_model_module_version": "1.5.0",
      "_model_name": "HTMLModel",
      "_view_count": null,
      "_view_module": "@jupyter-widgets/controls",
      "_view_module_version": "1.5.0",
      "_view_name": "HTMLView",
      "description": "",
      "description_tooltip": null,
      "layout": "IPY_MODEL_c2112883e1424c868dd391438319cdb1",
      "placeholder": "​",
      "style": "IPY_MODEL_6806e3a1ca6b4ed290365e8674ba1fe4",
      "value": " 444/444 [00:00&lt;00:00, 32.4kB/s]"
     }
    },
    "3cb39ca94dc048a7aa38c90d6448951f": {
     "model_module": "@jupyter-widgets/base",
     "model_name": "LayoutModel",
     "model_module_version": "1.2.0",
     "state": {
      "_model_module": "@jupyter-widgets/base",
      "_model_module_version": "1.2.0",
      "_model_name": "LayoutModel",
      "_view_count": null,
      "_view_module": "@jupyter-widgets/base",
      "_view_module_version": "1.2.0",
      "_view_name": "LayoutView",
      "align_content": null,
      "align_items": null,
      "align_self": null,
      "border": null,
      "bottom": null,
      "display": null,
      "flex": null,
      "flex_flow": null,
      "grid_area": null,
      "grid_auto_columns": null,
      "grid_auto_flow": null,
      "grid_auto_rows": null,
      "grid_column": null,
      "grid_gap": null,
      "grid_row": null,
      "grid_template_areas": null,
      "grid_template_columns": null,
      "grid_template_rows": null,
      "height": null,
      "justify_content": null,
      "justify_items": null,
      "left": null,
      "margin": null,
      "max_height": null,
      "max_width": null,
      "min_height": null,
      "min_width": null,
      "object_fit": null,
      "object_position": null,
      "order": null,
      "overflow": null,
      "overflow_x": null,
      "overflow_y": null,
      "padding": null,
      "right": null,
      "top": null,
      "visibility": null,
      "width": null
     }
    },
    "08230c86caf24d2d998a47cdec571c5d": {
     "model_module": "@jupyter-widgets/base",
     "model_name": "LayoutModel",
     "model_module_version": "1.2.0",
     "state": {
      "_model_module": "@jupyter-widgets/base",
      "_model_module_version": "1.2.0",
      "_model_name": "LayoutModel",
      "_view_count": null,
      "_view_module": "@jupyter-widgets/base",
      "_view_module_version": "1.2.0",
      "_view_name": "LayoutView",
      "align_content": null,
      "align_items": null,
      "align_self": null,
      "border": null,
      "bottom": null,
      "display": null,
      "flex": null,
      "flex_flow": null,
      "grid_area": null,
      "grid_auto_columns": null,
      "grid_auto_flow": null,
      "grid_auto_rows": null,
      "grid_column": null,
      "grid_gap": null,
      "grid_row": null,
      "grid_template_areas": null,
      "grid_template_columns": null,
      "grid_template_rows": null,
      "height": null,
      "justify_content": null,
      "justify_items": null,
      "left": null,
      "margin": null,
      "max_height": null,
      "max_width": null,
      "min_height": null,
      "min_width": null,
      "object_fit": null,
      "object_position": null,
      "order": null,
      "overflow": null,
      "overflow_x": null,
      "overflow_y": null,
      "padding": null,
      "right": null,
      "top": null,
      "visibility": null,
      "width": null
     }
    },
    "2c4b8cabb45f465ba7362eab512c5b7b": {
     "model_module": "@jupyter-widgets/controls",
     "model_name": "DescriptionStyleModel",
     "model_module_version": "1.5.0",
     "state": {
      "_model_module": "@jupyter-widgets/controls",
      "_model_module_version": "1.5.0",
      "_model_name": "DescriptionStyleModel",
      "_view_count": null,
      "_view_module": "@jupyter-widgets/base",
      "_view_module_version": "1.2.0",
      "_view_name": "StyleView",
      "description_width": ""
     }
    },
    "1068cc0cf3ea46378e00335d29ddeb3e": {
     "model_module": "@jupyter-widgets/base",
     "model_name": "LayoutModel",
     "model_module_version": "1.2.0",
     "state": {
      "_model_module": "@jupyter-widgets/base",
      "_model_module_version": "1.2.0",
      "_model_name": "LayoutModel",
      "_view_count": null,
      "_view_module": "@jupyter-widgets/base",
      "_view_module_version": "1.2.0",
      "_view_name": "LayoutView",
      "align_content": null,
      "align_items": null,
      "align_self": null,
      "border": null,
      "bottom": null,
      "display": null,
      "flex": null,
      "flex_flow": null,
      "grid_area": null,
      "grid_auto_columns": null,
      "grid_auto_flow": null,
      "grid_auto_rows": null,
      "grid_column": null,
      "grid_gap": null,
      "grid_row": null,
      "grid_template_areas": null,
      "grid_template_columns": null,
      "grid_template_rows": null,
      "height": null,
      "justify_content": null,
      "justify_items": null,
      "left": null,
      "margin": null,
      "max_height": null,
      "max_width": null,
      "min_height": null,
      "min_width": null,
      "object_fit": null,
      "object_position": null,
      "order": null,
      "overflow": null,
      "overflow_x": null,
      "overflow_y": null,
      "padding": null,
      "right": null,
      "top": null,
      "visibility": null,
      "width": null
     }
    },
    "e99e12b8fbed46e6a564add07aa6b2fa": {
     "model_module": "@jupyter-widgets/controls",
     "model_name": "ProgressStyleModel",
     "model_module_version": "1.5.0",
     "state": {
      "_model_module": "@jupyter-widgets/controls",
      "_model_module_version": "1.5.0",
      "_model_name": "ProgressStyleModel",
      "_view_count": null,
      "_view_module": "@jupyter-widgets/base",
      "_view_module_version": "1.2.0",
      "_view_name": "StyleView",
      "bar_color": null,
      "description_width": ""
     }
    },
    "c2112883e1424c868dd391438319cdb1": {
     "model_module": "@jupyter-widgets/base",
     "model_name": "LayoutModel",
     "model_module_version": "1.2.0",
     "state": {
      "_model_module": "@jupyter-widgets/base",
      "_model_module_version": "1.2.0",
      "_model_name": "LayoutModel",
      "_view_count": null,
      "_view_module": "@jupyter-widgets/base",
      "_view_module_version": "1.2.0",
      "_view_name": "LayoutView",
      "align_content": null,
      "align_items": null,
      "align_self": null,
      "border": null,
      "bottom": null,
      "display": null,
      "flex": null,
      "flex_flow": null,
      "grid_area": null,
      "grid_auto_columns": null,
      "grid_auto_flow": null,
      "grid_auto_rows": null,
      "grid_column": null,
      "grid_gap": null,
      "grid_row": null,
      "grid_template_areas": null,
      "grid_template_columns": null,
      "grid_template_rows": null,
      "height": null,
      "justify_content": null,
      "justify_items": null,
      "left": null,
      "margin": null,
      "max_height": null,
      "max_width": null,
      "min_height": null,
      "min_width": null,
      "object_fit": null,
      "object_position": null,
      "order": null,
      "overflow": null,
      "overflow_x": null,
      "overflow_y": null,
      "padding": null,
      "right": null,
      "top": null,
      "visibility": null,
      "width": null
     }
    },
    "6806e3a1ca6b4ed290365e8674ba1fe4": {
     "model_module": "@jupyter-widgets/controls",
     "model_name": "DescriptionStyleModel",
     "model_module_version": "1.5.0",
     "state": {
      "_model_module": "@jupyter-widgets/controls",
      "_model_module_version": "1.5.0",
      "_model_name": "DescriptionStyleModel",
      "_view_count": null,
      "_view_module": "@jupyter-widgets/base",
      "_view_module_version": "1.2.0",
      "_view_name": "StyleView",
      "description_width": ""
     }
    },
    "f96e1e9ff784462dbbb79f8b0aeebde6": {
     "model_module": "@jupyter-widgets/controls",
     "model_name": "HBoxModel",
     "model_module_version": "1.5.0",
     "state": {
      "_dom_classes": [],
      "_model_module": "@jupyter-widgets/controls",
      "_model_module_version": "1.5.0",
      "_model_name": "HBoxModel",
      "_view_count": null,
      "_view_module": "@jupyter-widgets/controls",
      "_view_module_version": "1.5.0",
      "_view_name": "HBoxView",
      "box_style": "",
      "children": [
       "IPY_MODEL_609cfbd5311f4132bf9946a2595a66f8",
       "IPY_MODEL_3d58af4b2d85417b8bd2d953ee3ac8d3",
       "IPY_MODEL_71cc104c135d4ae0a4e1545499567a83"
      ],
      "layout": "IPY_MODEL_3f87fcde1dc9462f881712e494eb4d59"
     }
    },
    "609cfbd5311f4132bf9946a2595a66f8": {
     "model_module": "@jupyter-widgets/controls",
     "model_name": "HTMLModel",
     "model_module_version": "1.5.0",
     "state": {
      "_dom_classes": [],
      "_model_module": "@jupyter-widgets/controls",
      "_model_module_version": "1.5.0",
      "_model_name": "HTMLModel",
      "_view_count": null,
      "_view_module": "@jupyter-widgets/controls",
      "_view_module_version": "1.5.0",
      "_view_name": "HTMLView",
      "description": "",
      "description_tooltip": null,
      "layout": "IPY_MODEL_41742f9921304f959bb9cff0ec353d2d",
      "placeholder": "​",
      "style": "IPY_MODEL_7788930b990e463bbe0b17180a96ca62",
      "value": "tokenizer.json: 100%"
     }
    },
    "3d58af4b2d85417b8bd2d953ee3ac8d3": {
     "model_module": "@jupyter-widgets/controls",
     "model_name": "FloatProgressModel",
     "model_module_version": "1.5.0",
     "state": {
      "_dom_classes": [],
      "_model_module": "@jupyter-widgets/controls",
      "_model_module_version": "1.5.0",
      "_model_name": "FloatProgressModel",
      "_view_count": null,
      "_view_module": "@jupyter-widgets/controls",
      "_view_module_version": "1.5.0",
      "_view_name": "ProgressView",
      "bar_style": "success",
      "description": "",
      "description_tooltip": null,
      "layout": "IPY_MODEL_e2e4cb06bc2743e090ca686f791952e3",
      "max": 1795677,
      "min": 0,
      "orientation": "horizontal",
      "style": "IPY_MODEL_a4d17636495a4c08ae9a17d47ca0ac38",
      "value": 1795677
     }
    },
    "71cc104c135d4ae0a4e1545499567a83": {
     "model_module": "@jupyter-widgets/controls",
     "model_name": "HTMLModel",
     "model_module_version": "1.5.0",
     "state": {
      "_dom_classes": [],
      "_model_module": "@jupyter-widgets/controls",
      "_model_module_version": "1.5.0",
      "_model_name": "HTMLModel",
      "_view_count": null,
      "_view_module": "@jupyter-widgets/controls",
      "_view_module_version": "1.5.0",
      "_view_name": "HTMLView",
      "description": "",
      "description_tooltip": null,
      "layout": "IPY_MODEL_ef78f3b1c1584e388653279e198cff21",
      "placeholder": "​",
      "style": "IPY_MODEL_96ff04cf91cd4d89bc39a5774d7eff69",
      "value": " 1.80M/1.80M [00:00&lt;00:00, 6.89MB/s]"
     }
    },
    "3f87fcde1dc9462f881712e494eb4d59": {
     "model_module": "@jupyter-widgets/base",
     "model_name": "LayoutModel",
     "model_module_version": "1.2.0",
     "state": {
      "_model_module": "@jupyter-widgets/base",
      "_model_module_version": "1.2.0",
      "_model_name": "LayoutModel",
      "_view_count": null,
      "_view_module": "@jupyter-widgets/base",
      "_view_module_version": "1.2.0",
      "_view_name": "LayoutView",
      "align_content": null,
      "align_items": null,
      "align_self": null,
      "border": null,
      "bottom": null,
      "display": null,
      "flex": null,
      "flex_flow": null,
      "grid_area": null,
      "grid_auto_columns": null,
      "grid_auto_flow": null,
      "grid_auto_rows": null,
      "grid_column": null,
      "grid_gap": null,
      "grid_row": null,
      "grid_template_areas": null,
      "grid_template_columns": null,
      "grid_template_rows": null,
      "height": null,
      "justify_content": null,
      "justify_items": null,
      "left": null,
      "margin": null,
      "max_height": null,
      "max_width": null,
      "min_height": null,
      "min_width": null,
      "object_fit": null,
      "object_position": null,
      "order": null,
      "overflow": null,
      "overflow_x": null,
      "overflow_y": null,
      "padding": null,
      "right": null,
      "top": null,
      "visibility": null,
      "width": null
     }
    },
    "41742f9921304f959bb9cff0ec353d2d": {
     "model_module": "@jupyter-widgets/base",
     "model_name": "LayoutModel",
     "model_module_version": "1.2.0",
     "state": {
      "_model_module": "@jupyter-widgets/base",
      "_model_module_version": "1.2.0",
      "_model_name": "LayoutModel",
      "_view_count": null,
      "_view_module": "@jupyter-widgets/base",
      "_view_module_version": "1.2.0",
      "_view_name": "LayoutView",
      "align_content": null,
      "align_items": null,
      "align_self": null,
      "border": null,
      "bottom": null,
      "display": null,
      "flex": null,
      "flex_flow": null,
      "grid_area": null,
      "grid_auto_columns": null,
      "grid_auto_flow": null,
      "grid_auto_rows": null,
      "grid_column": null,
      "grid_gap": null,
      "grid_row": null,
      "grid_template_areas": null,
      "grid_template_columns": null,
      "grid_template_rows": null,
      "height": null,
      "justify_content": null,
      "justify_items": null,
      "left": null,
      "margin": null,
      "max_height": null,
      "max_width": null,
      "min_height": null,
      "min_width": null,
      "object_fit": null,
      "object_position": null,
      "order": null,
      "overflow": null,
      "overflow_x": null,
      "overflow_y": null,
      "padding": null,
      "right": null,
      "top": null,
      "visibility": null,
      "width": null
     }
    },
    "7788930b990e463bbe0b17180a96ca62": {
     "model_module": "@jupyter-widgets/controls",
     "model_name": "DescriptionStyleModel",
     "model_module_version": "1.5.0",
     "state": {
      "_model_module": "@jupyter-widgets/controls",
      "_model_module_version": "1.5.0",
      "_model_name": "DescriptionStyleModel",
      "_view_count": null,
      "_view_module": "@jupyter-widgets/base",
      "_view_module_version": "1.2.0",
      "_view_name": "StyleView",
      "description_width": ""
     }
    },
    "e2e4cb06bc2743e090ca686f791952e3": {
     "model_module": "@jupyter-widgets/base",
     "model_name": "LayoutModel",
     "model_module_version": "1.2.0",
     "state": {
      "_model_module": "@jupyter-widgets/base",
      "_model_module_version": "1.2.0",
      "_model_name": "LayoutModel",
      "_view_count": null,
      "_view_module": "@jupyter-widgets/base",
      "_view_module_version": "1.2.0",
      "_view_name": "LayoutView",
      "align_content": null,
      "align_items": null,
      "align_self": null,
      "border": null,
      "bottom": null,
      "display": null,
      "flex": null,
      "flex_flow": null,
      "grid_area": null,
      "grid_auto_columns": null,
      "grid_auto_flow": null,
      "grid_auto_rows": null,
      "grid_column": null,
      "grid_gap": null,
      "grid_row": null,
      "grid_template_areas": null,
      "grid_template_columns": null,
      "grid_template_rows": null,
      "height": null,
      "justify_content": null,
      "justify_items": null,
      "left": null,
      "margin": null,
      "max_height": null,
      "max_width": null,
      "min_height": null,
      "min_width": null,
      "object_fit": null,
      "object_position": null,
      "order": null,
      "overflow": null,
      "overflow_x": null,
      "overflow_y": null,
      "padding": null,
      "right": null,
      "top": null,
      "visibility": null,
      "width": null
     }
    },
    "a4d17636495a4c08ae9a17d47ca0ac38": {
     "model_module": "@jupyter-widgets/controls",
     "model_name": "ProgressStyleModel",
     "model_module_version": "1.5.0",
     "state": {
      "_model_module": "@jupyter-widgets/controls",
      "_model_module_version": "1.5.0",
      "_model_name": "ProgressStyleModel",
      "_view_count": null,
      "_view_module": "@jupyter-widgets/base",
      "_view_module_version": "1.2.0",
      "_view_name": "StyleView",
      "bar_color": null,
      "description_width": ""
     }
    },
    "ef78f3b1c1584e388653279e198cff21": {
     "model_module": "@jupyter-widgets/base",
     "model_name": "LayoutModel",
     "model_module_version": "1.2.0",
     "state": {
      "_model_module": "@jupyter-widgets/base",
      "_model_module_version": "1.2.0",
      "_model_name": "LayoutModel",
      "_view_count": null,
      "_view_module": "@jupyter-widgets/base",
      "_view_module_version": "1.2.0",
      "_view_name": "LayoutView",
      "align_content": null,
      "align_items": null,
      "align_self": null,
      "border": null,
      "bottom": null,
      "display": null,
      "flex": null,
      "flex_flow": null,
      "grid_area": null,
      "grid_auto_columns": null,
      "grid_auto_flow": null,
      "grid_auto_rows": null,
      "grid_column": null,
      "grid_gap": null,
      "grid_row": null,
      "grid_template_areas": null,
      "grid_template_columns": null,
      "grid_template_rows": null,
      "height": null,
      "justify_content": null,
      "justify_items": null,
      "left": null,
      "margin": null,
      "max_height": null,
      "max_width": null,
      "min_height": null,
      "min_width": null,
      "object_fit": null,
      "object_position": null,
      "order": null,
      "overflow": null,
      "overflow_x": null,
      "overflow_y": null,
      "padding": null,
      "right": null,
      "top": null,
      "visibility": null,
      "width": null
     }
    },
    "96ff04cf91cd4d89bc39a5774d7eff69": {
     "model_module": "@jupyter-widgets/controls",
     "model_name": "DescriptionStyleModel",
     "model_module_version": "1.5.0",
     "state": {
      "_model_module": "@jupyter-widgets/controls",
      "_model_module_version": "1.5.0",
      "_model_name": "DescriptionStyleModel",
      "_view_count": null,
      "_view_module": "@jupyter-widgets/base",
      "_view_module_version": "1.2.0",
      "_view_name": "StyleView",
      "description_width": ""
     }
    }
   }
  }
 },
 "nbformat": 4,
 "nbformat_minor": 0
}
